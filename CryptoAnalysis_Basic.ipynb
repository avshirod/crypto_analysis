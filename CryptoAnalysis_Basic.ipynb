{
 "cells": [
  {
   "cell_type": "markdown",
   "metadata": {},
   "source": [
    "README: https://docs.google.com/document/d/1cxqU0d6jLgmjK3pTIK_nI7M9fo7NDUt3qGktD8knNZ8/edit  \n",
    "\n",
    "API Details:  \n",
    "https://min-api.cryptocompare.com/  \n",
    "https://www.cryptocompare.com/api  \n",
    "\n",
    "Code Ref:  \n",
    "https://github.com/MaverickLLC/cryptocompareapi_python_MavericLLC/blob/master/cryptocompare_maverick.py  \n",
    "https://github.com/lagerfeuer/cryptocompare/blob/master/cryptocompare/cryptocompare.py  "
   ]
  },
  {
   "cell_type": "markdown",
   "metadata": {},
   "source": [
    "TO DO:  \n",
    "- Make generic functions for tasks for modularity\n",
    "- Make a class for individual coin if required\n",
    "- Incorporate https://github.com/mrjbq7/ta-lib"
   ]
  },
  {
   "cell_type": "code",
   "execution_count": 6,
   "metadata": {},
   "outputs": [],
   "source": [
    "# Imports\n",
    "import time\n",
    "import logging\n",
    "import requests\n",
    "import datetime\n",
    "\n",
    "import pandas as pd"
   ]
  },
  {
   "cell_type": "code",
   "execution_count": 7,
   "metadata": {},
   "outputs": [],
   "source": [
    "# API\n",
    "API_ENDPOINT = \"https://min-api.cryptocompare.com/data\"\n",
    "OLD_API_ENDPOINT = \"https://www.cryptocompare.com/api/data\"\n",
    "\n",
    "URL_COIN_LIST = OLD_API_ENDPOINT + \"/coinlist/\"\n",
    "URL_COIN_SNAPSHOT = OLD_API_ENDPOINT + \"/coinsnapshot/?fsym={}&tsym={}&e={}\"\n",
    "\n",
    "URL_PRICE = API_ENDPOINT + \"/pricemulti?fsyms={}&tsyms={}&e={}\"\n",
    "URL_PRICE_MULTI = API_ENDPOINT + \"/pricemulti?fsyms={}&tsyms={}&e={}\"\n",
    "URL_PRICE_MULTI_FULL = API_ENDPOINT + \"/pricemultifull?fsyms={}&tsyms={}&e={}\"\n",
    "\n",
    "URL_HIST_PRICE = API_ENDPOINT + \"/pricehistorical?fsym={}&tsyms={}&ts={}\"\n",
    "URL_HIST_PRICE_DAY = API_ENDPOINT + \"/histoday?fsym={}&tsym={}&e={}&limit={}&allData={}\"\n",
    "URL_HIST_PRICE_HOUR = API_ENDPOINT + \"/histohour?fsym={}&tsym={}&e={}&limit={}\"\n",
    "URL_HIST_PRICE_MINUTE = API_ENDPOINT + \"/histominute?fsym={}&tsym={}&e={}&toTs={}\"\n",
    "\n",
    "URL_AVG = API_ENDPOINT + \"/generateAvg?fsym={}&tsym={}&e={}\"\n",
    "URL_DAY_AVG = API_ENDPOINT + \"/dayAvg?fsym={}&tsym={}&e={}\""
   ]
  },
  {
   "cell_type": "code",
   "execution_count": 8,
   "metadata": {},
   "outputs": [],
   "source": [
    "# FIELDS\n",
    "PRICE = 'PRICE'\n",
    "HIGH = 'HIGH24HOUR'\n",
    "LOW = 'LOW24HOUR'\n",
    "VOLUME = 'VOLUME24HOUR'\n",
    "CHANGE = 'CHANGE24HOUR'\n",
    "CHANGE_PERCENT = 'CHANGEPCT24HOUR'\n",
    "MARKETCAP = 'MKTCAP'"
   ]
  },
  {
   "cell_type": "code",
   "execution_count": 9,
   "metadata": {},
   "outputs": [],
   "source": [
    "# Defaults\n",
    "CURR = \"USD\"\n",
    "EXCHANGE = \"CCCAGG\"\n",
    "COIN = 'BTC'\n",
    "COIN_LIST = ['BTC', 'ETH']"
   ]
  },
  {
   "cell_type": "code",
   "execution_count": 10,
   "metadata": {},
   "outputs": [],
   "source": [
    "def query_cryptocompare(url):\n",
    "    \"\"\" Query CryptoCompare API \"\"\"\n",
    "    try:\n",
    "        response = requests.get(url).json()\n",
    "    except Exception as e:\n",
    "        logging.error(\"Failure while querying {query}. \\n{err}\".format(query=url, err=e))\n",
    "        return None\n",
    "    return response"
   ]
  },
  {
   "cell_type": "code",
   "execution_count": 11,
   "metadata": {},
   "outputs": [],
   "source": [
    "# Helper functions\n",
    "def format_parameter(parameter):\n",
    "    \"\"\" Format parameters for the query \"\"\"\n",
    "    if isinstance(parameter, list):\n",
    "        return ','.join(parameter)\n",
    "    else:\n",
    "        return parameter\n",
    "    \n",
    "def convert_timestamp(timestamp):\n",
    "    return datetime.datetime.fromtimestamp(int(timestamp)).strftime('%Y-%m-%d %H:%M:%S')\n",
    "\n",
    "def get_data(response):\n",
    "    \"\"\" Separate query data from response \"\"\"\n",
    "    header = {key: (value if key != 'Data' else len(value)) for key, value in response.items()}\n",
    "    data = response['Data']\n",
    "    return header, data\n",
    "\n",
    "def get_readable_df(response):\n",
    "    \"\"\" Convert timestamp into readable datetime \"\"\"\n",
    "    header, data = get_data(response)\n",
    "    df_data = pd.DataFrame(data)\n",
    "    df_data = df_data.rename(columns={'time': 'timestamp'})\n",
    "    df_data['time'] = df_data.timestamp.apply(convert_timestamp)\n",
    "    df_data = df_data.set_index('time')\n",
    "    return df_data"
   ]
  },
  {
   "cell_type": "code",
   "execution_count": 12,
   "metadata": {},
   "outputs": [],
   "source": [
    "def get_coin_list():\n",
    "    \"\"\" Get coin list \"\"\"\n",
    "    return query_cryptocompare(URL_COIN_LIST)['Data']"
   ]
  },
  {
   "cell_type": "code",
   "execution_count": null,
   "metadata": {},
   "outputs": [],
   "source": [
    "coins = get_coin_list()\n",
    "COIN_DB = pd.DataFrame.from_dict(coins, orient='index')"
   ]
  },
  {
   "cell_type": "code",
   "execution_count": 13,
   "metadata": {},
   "outputs": [],
   "source": [
    "def get_price(coin, to_curr=CURR, exchange=EXCHANGE):\n",
    "    \"\"\" Get real time price of the coin \"\"\"\n",
    "    if isinstance(coin, list):\n",
    "        return query_cryptocompare(URL_PRICE_MULTI.format(\n",
    "                format_parameter(coin), format_parameter(to_curr), exchange\n",
    "            )\n",
    "        )\n",
    "    else:\n",
    "        return query_cryptocompare(URL_PRICE.format(coin, format_parameter(to_curr), exchange))"
   ]
  },
  {
   "cell_type": "code",
   "execution_count": null,
   "metadata": {},
   "outputs": [],
   "source": [
    "get_price(coin_list)"
   ]
  },
  {
   "cell_type": "code",
   "execution_count": 14,
   "metadata": {},
   "outputs": [],
   "source": [
    "def get_historical_price_timestamp(coin, to_curr=CURR, timestamp=time.time(), exchange=EXCHANGE):\n",
    "    \"\"\" Get value of coin in currency at a particular timestamp \"\"\"\n",
    "    if isinstance(timestamp, datetime.datetime):\n",
    "        timestamp = time.mktime(timestamp.timetuple())\n",
    "    \n",
    "    return query_cryptocompare(URL_HIST_PRICE.format(\n",
    "            coin, \n",
    "            format_parameter(to_curr),\n",
    "            int(timestamp),\n",
    "            exchange\n",
    "        )\n",
    "    )"
   ]
  },
  {
   "cell_type": "code",
   "execution_count": null,
   "metadata": {},
   "outputs": [],
   "source": [
    "get_historical_price_timestamp(COIN)"
   ]
  },
  {
   "cell_type": "code",
   "execution_count": 15,
   "metadata": {},
   "outputs": [],
   "source": [
    "def get_historical_price_day(coin, to_curr=CURR, timestamp=time.time(), exchange=EXCHANGE, limit=30, allData='false'):\n",
    "    \"\"\" Get price per day for the past month \"\"\"\n",
    "    return query_cryptocompare(URL_HIST_PRICE_DAY.format(\n",
    "            coin,\n",
    "            format_parameter(to_curr),\n",
    "            exchange,\n",
    "            limit,\n",
    "            allData\n",
    "        )\n",
    "    )\n",
    "\n",
    "def get_historical_price_last_day(*args):\n",
    "    \"\"\" Get price for last day \"\"\"\n",
    "    return get_historical_price_day(*args, limit=1)"
   ]
  },
  {
   "cell_type": "code",
   "execution_count": null,
   "metadata": {},
   "outputs": [],
   "source": [
    "coin_day = get_historical_price_day(COIN)\n",
    "df_coin_day = get_readable_df(coin_day)"
   ]
  },
  {
   "cell_type": "code",
   "execution_count": 16,
   "metadata": {},
   "outputs": [],
   "source": [
    "def get_historical_price_day_full(*args):\n",
    "    \"\"\" Get price per day for all time  \"\"\"\n",
    "    return get_historical_price_day(*args, allData='true')"
   ]
  },
  {
   "cell_type": "code",
   "execution_count": null,
   "metadata": {},
   "outputs": [],
   "source": [
    "coin_day_full = get_historical_price_day_full(COIN)\n",
    "df_coin_day_full = get_readable_df(coin_day_full)"
   ]
  },
  {
   "cell_type": "code",
   "execution_count": 17,
   "metadata": {},
   "outputs": [],
   "source": [
    "def get_historical_price_hour(coin, to_curr=CURR, exchange=EXCHANGE, limit=168):\n",
    "    \"\"\" Get price per hour for past 7 days \"\"\"\n",
    "    return query_cryptocompare(URL_HIST_PRICE_HOUR.format(\n",
    "            coin,\n",
    "            format_parameter(to_curr),\n",
    "            exchange,\n",
    "            limit\n",
    "        )\n",
    "    )\n",
    "\n",
    "def get_historical_price_last_hour(*args, **kwargs):\n",
    "    \"\"\" Get price for the last hour \"\"\"\n",
    "    return get_historical_price_hour(*args, **kwargs, limit=1)"
   ]
  },
  {
   "cell_type": "code",
   "execution_count": null,
   "metadata": {},
   "outputs": [],
   "source": [
    "coin_hour = get_historical_price_hour(COIN)\n",
    "df_coin_hour = get_readable_df(coin_hour)"
   ]
  },
  {
   "cell_type": "code",
   "execution_count": 18,
   "metadata": {},
   "outputs": [],
   "source": [
    "def get_historical_price_minute(coin, to_curr=CURR, exchange=EXCHANGE, toTs=time.time()):\n",
    "    \"\"\" Get price per min for past 24 hours \"\"\"\n",
    "    return query_cryptocompare(URL_HIST_PRICE_MINUTE.format(\n",
    "            coin,\n",
    "            format_parameter(to_curr),\n",
    "            exchange,\n",
    "            int(toTs)\n",
    "        )\n",
    "    )"
   ]
  },
  {
   "cell_type": "code",
   "execution_count": null,
   "metadata": {},
   "outputs": [],
   "source": [
    "coin_min = get_historical_price_min(COIN)\n",
    "df_coin_min = get_readable_df(coin_min)"
   ]
  },
  {
   "cell_type": "code",
   "execution_count": 19,
   "metadata": {},
   "outputs": [],
   "source": [
    "def get_historical_price_minute_by_day(*args, days_ago=0):\n",
    "    \"\"\" Get price per min for 24 hours till days_ago \"\"\"\n",
    "    if days_ago > 7:\n",
    "        logging.error(\"Can not get information by minute for more than 7 days. Getting information for last possible day.\")\n",
    "        days_ago = 7\n",
    "    days_ago -= 1  # Subtracting one day as toTs considers ending timestamp\n",
    "    ts = datetime.datetime.today() - datetime.timedelta(days_ago)\n",
    "    ts = time.mktime(ts.timetuple())\n",
    "    return get_historical_price_minute(*args, toTs=int(ts))"
   ]
  },
  {
   "cell_type": "code",
   "execution_count": null,
   "metadata": {},
   "outputs": [],
   "source": [
    "coin_minute_week = get_historical_price_minute_by_day(COIN, days_ago=7)\n",
    "df_coin_minute_week = get_readable_df(coin_minute_week)"
   ]
  },
  {
   "cell_type": "markdown",
   "metadata": {},
   "source": [
    "-----------------------"
   ]
  },
  {
   "cell_type": "code",
   "execution_count": null,
   "metadata": {},
   "outputs": [],
   "source": [
    "# Data\n",
    "csv_day_full = 'coin_day_full.csv'"
   ]
  },
  {
   "cell_type": "code",
   "execution_count": null,
   "metadata": {},
   "outputs": [],
   "source": [
    "df_coin_day_full['coin'] = 'BTC'\n",
    "df_coin_day_full.to_csv(csv_day_full)"
   ]
  },
  {
   "cell_type": "code",
   "execution_count": 20,
   "metadata": {},
   "outputs": [],
   "source": [
    "def fetch_last_day(coin):\n",
    "    \"\"\" Get data for last day \"\"\"\n",
    "    coin_last_day = get_historical_price_last_day(COIN)\n",
    "    df_coin_last_day = get_readable_df(coin_last_day)\n",
    "    df_coin_last_day['coin'] = coin\n",
    "    last_entry = df_coin_last_day.iloc[-1:]\n",
    "    return last_entry"
   ]
  },
  {
   "cell_type": "code",
   "execution_count": 21,
   "metadata": {},
   "outputs": [],
   "source": [
    "def update_last_day(coin):\n",
    "    \"\"\" Update csv for last day \"\"\"\n",
    "    record_last_day = fetch_last_day(COIN)\n",
    "    csv_day = 'coin_day_full.csv'\n",
    "    df_day = pd.read_csv(csv_day)\n",
    "    record = df_day[df_day['timestamp'] == record_last_day.iloc[0]['timestamp']]\n",
    "    if record.empty:\n",
    "        record_last_day.to_csv(csv_day, mode='a', header=False)"
   ]
  },
  {
   "cell_type": "code",
   "execution_count": 22,
   "metadata": {},
   "outputs": [],
   "source": [
    "from functools import partial\n",
    "update_last_day_partial = partial(update_last_day, COIN)"
   ]
  },
  {
   "cell_type": "code",
   "execution_count": 24,
   "metadata": {},
   "outputs": [],
   "source": [
    "from apscheduler.schedulers.background import BackgroundScheduler\n",
    "scheduler = BackgroundScheduler({'apscheduler.timezone': 'UTC'})\n",
    "# Update data every day at 5:30pm\n",
    "scheduler.add_job(update_last_day_partial, 'cron', day_of_week='*', hour=17, minute=30)\n",
    "scheduler.start()"
   ]
  }
 ],
 "metadata": {
  "anaconda-cloud": {},
  "kernelspec": {
   "display_name": "Python [default]",
   "language": "python",
   "name": "python3"
  },
  "language_info": {
   "codemirror_mode": {
    "name": "ipython",
    "version": 3
   },
   "file_extension": ".py",
   "mimetype": "text/x-python",
   "name": "python",
   "nbconvert_exporter": "python",
   "pygments_lexer": "ipython3",
   "version": "3.5.5"
  }
 },
 "nbformat": 4,
 "nbformat_minor": 2
}
