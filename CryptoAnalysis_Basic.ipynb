{
 "cells": [
  {
   "cell_type": "markdown",
   "metadata": {},
   "source": [
    "README: https://docs.google.com/document/d/1cxqU0d6jLgmjK3pTIK_nI7M9fo7NDUt3qGktD8knNZ8/edit  \n",
    "\n",
    "API Details:  \n",
    "https://min-api.cryptocompare.com/  \n",
    "https://www.cryptocompare.com/api  \n",
    "\n",
    "Code Ref:  \n",
    "https://github.com/MaverickLLC/cryptocompareapi_python_MavericLLC/blob/master/cryptocompare_maverick.py  \n",
    "https://github.com/lagerfeuer/cryptocompare/blob/master/cryptocompare/cryptocompare.py  "
   ]
  },
  {
   "cell_type": "markdown",
   "metadata": {},
   "source": [
    "TO DO:  \n",
    "- Make generic functions for tasks for modularity\n",
    "- Make a class for individual coin if required\n",
    "- Incorporate https://github.com/mrjbq7/ta-lib"
   ]
  },
  {
   "cell_type": "code",
   "execution_count": 1,
   "metadata": {},
   "outputs": [],
   "source": [
    "# Imports\n",
    "import time\n",
    "import logging\n",
    "import requests\n",
    "import datetime\n",
    "import talib\n",
    "import numpy as np\n",
    "import pandas as pd\n",
    "from collections import OrderedDict, defaultdict"
   ]
  },
  {
   "cell_type": "code",
   "execution_count": 2,
   "metadata": {},
   "outputs": [],
   "source": [
    "# API\n",
    "API_ENDPOINT = \"https://min-api.cryptocompare.com/data\"\n",
    "OLD_API_ENDPOINT = \"https://www.cryptocompare.com/api/data\"\n",
    "\n",
    "URL_COIN_LIST = OLD_API_ENDPOINT + \"/coinlist/\"\n",
    "URL_COIN_SNAPSHOT = OLD_API_ENDPOINT + \"/coinsnapshot/?fsym={}&tsym={}&e={}\"\n",
    "\n",
    "URL_PRICE = API_ENDPOINT + \"/pricemulti?fsyms={}&tsyms={}&e={}\"\n",
    "URL_PRICE_MULTI = API_ENDPOINT + \"/pricemulti?fsyms={}&tsyms={}&e={}\"\n",
    "URL_PRICE_MULTI_FULL = API_ENDPOINT + \"/pricemultifull?fsyms={}&tsyms={}&e={}\"\n",
    "\n",
    "URL_HIST_PRICE = API_ENDPOINT + \"/pricehistorical?fsym={}&tsyms={}&ts={}\"\n",
    "URL_HIST_PRICE_DAY = API_ENDPOINT + \"/histoday?fsym={}&tsym={}&e={}&limit={}&allData={}\"\n",
    "URL_HIST_PRICE_HOUR = API_ENDPOINT + \"/histohour?fsym={}&tsym={}&e={}&limit={}\"\n",
    "URL_HIST_PRICE_MINUTE = API_ENDPOINT + \"/histominute?fsym={}&tsym={}&e={}&toTs={}\"\n",
    "\n",
    "URL_AVG = API_ENDPOINT + \"/generateAvg?fsym={}&tsym={}&e={}\"\n",
    "URL_DAY_AVG = API_ENDPOINT + \"/dayAvg?fsym={}&tsym={}&e={}\""
   ]
  },
  {
   "cell_type": "code",
   "execution_count": 3,
   "metadata": {},
   "outputs": [],
   "source": [
    "# FIELDS\n",
    "PRICE = 'PRICE'\n",
    "HIGH = 'HIGH24HOUR'\n",
    "LOW = 'LOW24HOUR'\n",
    "VOLUME = 'VOLUME24HOUR'\n",
    "CHANGE = 'CHANGE24HOUR'\n",
    "CHANGE_PERCENT = 'CHANGEPCT24HOUR'\n",
    "MARKETCAP = 'MKTCAP'\n",
    "NPERIODS = 100\n",
    "TIMEFRAME = 'Day'"
   ]
  },
  {
   "cell_type": "code",
   "execution_count": 4,
   "metadata": {},
   "outputs": [],
   "source": [
    "# Defaults\n",
    "CURR = \"USD\"\n",
    "EXCHANGE = \"CCCAGG\"\n",
    "COIN = 'BTC'\n",
    "COIN_LIST = ['BTC', 'ETH']\n",
    "EXCHANGES = ['Kucoin','Cryptopia','HitBTC']"
   ]
  },
  {
   "cell_type": "code",
   "execution_count": 5,
   "metadata": {},
   "outputs": [],
   "source": [
    "def query_cryptocompare(url):\n",
    "    \"\"\" Query CryptoCompare API \"\"\"\n",
    "    try:\n",
    "        response = requests.get(url).json()\n",
    "    except Exception as e:\n",
    "        logging.error(\"Failure while querying {query}. \\n{err}\".format(query=url, err=e))\n",
    "        return None\n",
    "    return response"
   ]
  },
  {
   "cell_type": "code",
   "execution_count": 6,
   "metadata": {},
   "outputs": [],
   "source": [
    "# Helper functions\n",
    "def format_parameter(parameter):\n",
    "    \"\"\" Format parameters for the query \"\"\"\n",
    "    if isinstance(parameter, list):\n",
    "        return ','.join(parameter)\n",
    "    else:\n",
    "        return parameter\n",
    "    \n",
    "def convert_timestamp(timestamp):\n",
    "    return datetime.datetime.fromtimestamp(int(timestamp)).strftime('%Y-%m-%d %H:%M:%S')\n",
    "\n",
    "def get_data(response):\n",
    "    \"\"\" Separate query data from response \"\"\"\n",
    "    header = {key: (value if key != 'Data' else len(value)) for key, value in response.items()}\n",
    "    data = response['Data']\n",
    "    return header, data\n",
    "\n",
    "def get_readable_df(response):\n",
    "    \"\"\" Convert timestamp into readable datetime \"\"\"\n",
    "    header, data = get_data(response)\n",
    "    df_data = pd.DataFrame(data)\n",
    "    df_data = df_data.rename(columns={'time': 'timestamp'})\n",
    "    df_data['time'] = df_data.timestamp.apply(convert_timestamp)\n",
    "    df_data = df_data.set_index('time')\n",
    "    del df_data['timestamp']\n",
    "    return df_data"
   ]
  },
  {
   "cell_type": "code",
   "execution_count": 7,
   "metadata": {},
   "outputs": [],
   "source": [
    "def get_coin_list():\n",
    "    \"\"\" Get coin list \"\"\"\n",
    "    return query_cryptocompare(URL_COIN_LIST)['Data']"
   ]
  },
  {
   "cell_type": "code",
   "execution_count": 8,
   "metadata": {},
   "outputs": [],
   "source": [
    "coins = get_coin_list()\n",
    "COIN_DB = pd.DataFrame.from_dict(coins, orient='index')\n",
    "COIN_DB.to_csv('coin_list.csv')"
   ]
  },
  {
   "cell_type": "code",
   "execution_count": 9,
   "metadata": {},
   "outputs": [],
   "source": [
    "def get_price(coin, to_curr=CURR, exchange=EXCHANGE):\n",
    "    \"\"\" Get real time price of the coin \"\"\"\n",
    "    if isinstance(coin, list):\n",
    "        return query_cryptocompare(URL_PRICE_MULTI.format(\n",
    "                format_parameter(coin), format_parameter(to_curr), exchange\n",
    "            )\n",
    "        )\n",
    "    else:\n",
    "        return query_cryptocompare(URL_PRICE.format(coin, format_parameter(to_curr), exchange))"
   ]
  },
  {
   "cell_type": "code",
   "execution_count": 10,
   "metadata": {},
   "outputs": [
    {
     "data": {
      "text/plain": [
       "{'BTC': {'USD': 11364.87}, 'ETH': {'USD': 862.65}}"
      ]
     },
     "execution_count": 10,
     "metadata": {},
     "output_type": "execute_result"
    }
   ],
   "source": [
    "get_price(COIN_LIST)"
   ]
  },
  {
   "cell_type": "code",
   "execution_count": 11,
   "metadata": {},
   "outputs": [],
   "source": [
    "def get_historical_price_timestamp(coin, to_curr=CURR, timestamp=time.time(), exchange=EXCHANGE):\n",
    "    \"\"\" Get value of coin in currency at a particular timestamp \"\"\"\n",
    "    if isinstance(timestamp, datetime.datetime):\n",
    "        timestamp = time.mktime(timestamp.timetuple())\n",
    "    \n",
    "    return query_cryptocompare(URL_HIST_PRICE.format(\n",
    "            coin, \n",
    "            format_parameter(to_curr),\n",
    "            int(timestamp),\n",
    "            exchange\n",
    "        )\n",
    "    )"
   ]
  },
  {
   "cell_type": "code",
   "execution_count": null,
   "metadata": {},
   "outputs": [],
   "source": [
    "get_historical_price_timestamp(COIN)"
   ]
  },
  {
   "cell_type": "code",
   "execution_count": 12,
   "metadata": {},
   "outputs": [],
   "source": [
    "def get_historical_price_day(coin, to_curr=CURR, timestamp=time.time(), exchange=EXCHANGE, limit=30, allData='false'):\n",
    "    \"\"\" Get price per day for the past month \"\"\"\n",
    "    return query_cryptocompare(URL_HIST_PRICE_DAY.format(\n",
    "            coin,\n",
    "            format_parameter(to_curr),\n",
    "            exchange,\n",
    "            limit,\n",
    "            allData\n",
    "        )\n",
    "    )\n",
    "\n",
    "def get_historical_price_last_day(*args):\n",
    "    \"\"\" Get price for last day \"\"\"\n",
    "    return get_historical_price_day(*args, limit=1)"
   ]
  },
  {
   "cell_type": "code",
   "execution_count": null,
   "metadata": {
    "collapsed": true
   },
   "outputs": [],
   "source": [
    "# coin_day = get_historical_price_day(COIN)\n",
    "# df_coin_day = get_readable_df(coin_day)\n",
    "coin_day = get_historical_price_day('ZRX','BTC',exchange='Binance',limit=1)\n",
    "if coin_day['Response'] != 'Error':\n",
    "    df_coin_day = get_readable_df(coin_day)"
   ]
  },
  {
   "cell_type": "code",
   "execution_count": 13,
   "metadata": {},
   "outputs": [],
   "source": [
    "def get_historical_price_day_full(*args):\n",
    "    \"\"\" Get price per day for all time  \"\"\"\n",
    "    return get_historical_price_day(*args, allData='true')"
   ]
  },
  {
   "cell_type": "code",
   "execution_count": null,
   "metadata": {
    "collapsed": true
   },
   "outputs": [],
   "source": [
    "coin_day_full = get_historical_price_day_full(COIN)\n",
    "df_coin_day_full = get_readable_df(coin_day_full)"
   ]
  },
  {
   "cell_type": "code",
   "execution_count": 14,
   "metadata": {},
   "outputs": [],
   "source": [
    "def get_historical_price_hour(coin, to_curr=CURR, exchange=EXCHANGE, limit=168):\n",
    "    \"\"\" Get price per hour for past 7 days \"\"\"\n",
    "    return query_cryptocompare(URL_HIST_PRICE_HOUR.format(\n",
    "            coin,\n",
    "            format_parameter(to_curr),\n",
    "            exchange,\n",
    "            limit\n",
    "        )\n",
    "    )\n",
    "\n",
    "def get_historical_price_last_hour(*args, **kwargs):\n",
    "    \"\"\" Get price for the last hour \"\"\"\n",
    "    return get_historical_price_hour(*args, **kwargs, limit=1)"
   ]
  },
  {
   "cell_type": "code",
   "execution_count": null,
   "metadata": {
    "collapsed": true
   },
   "outputs": [],
   "source": [
    "coin_hour = get_historical_price_hour(COIN)\n",
    "print(len(coin_hour['Data']))"
   ]
  },
  {
   "cell_type": "code",
   "execution_count": null,
   "metadata": {
    "collapsed": true
   },
   "outputs": [],
   "source": [
    "df_coin_hour = get_readable_df(coin_hour)"
   ]
  },
  {
   "cell_type": "code",
   "execution_count": 15,
   "metadata": {},
   "outputs": [],
   "source": [
    "def get_historical_price_minute(coin, to_curr=CURR, exchange=EXCHANGE, toTs=time.time()):\n",
    "    \"\"\" Get price per min for past 24 hours \"\"\"\n",
    "    return query_cryptocompare(URL_HIST_PRICE_MINUTE.format(\n",
    "            coin,\n",
    "            format_parameter(to_curr),\n",
    "            exchange,\n",
    "            int(toTs)\n",
    "        )\n",
    "    )"
   ]
  },
  {
   "cell_type": "code",
   "execution_count": null,
   "metadata": {
    "collapsed": true
   },
   "outputs": [],
   "source": [
    "coin_min = get_historical_price_minute(COIN)\n",
    "print(len(coin_min['Data']))"
   ]
  },
  {
   "cell_type": "code",
   "execution_count": null,
   "metadata": {
    "collapsed": true
   },
   "outputs": [],
   "source": [
    "df_coin_min = get_readable_df(coin_min)"
   ]
  },
  {
   "cell_type": "code",
   "execution_count": 16,
   "metadata": {},
   "outputs": [],
   "source": [
    "def get_historical_price_minute_by_day(*args, days_ago=0):\n",
    "    \"\"\" Get price per min for 24 hours till days_ago \"\"\"\n",
    "    if days_ago > 7:\n",
    "        logging.error(\"Can not get information by minute for more than 7 days. Getting information for last possible day.\")\n",
    "        days_ago = 7\n",
    "    days_ago -= 1  # Subtracting one day as toTs considers ending timestamp\n",
    "    ts = datetime.datetime.today() - datetime.timedelta(days_ago)\n",
    "    ts = time.mktime(ts.timetuple())\n",
    "    return get_historical_price_minute(*args, toTs=int(ts))"
   ]
  },
  {
   "cell_type": "code",
   "execution_count": null,
   "metadata": {
    "collapsed": true
   },
   "outputs": [],
   "source": [
    "coin_minute_week = get_historical_price_minute_by_day(COIN, days_ago=7)\n",
    "df_coin_minute_week = get_readable_df(coin_minute_week)"
   ]
  },
  {
   "cell_type": "markdown",
   "metadata": {},
   "source": [
    "-----------------------"
   ]
  },
  {
   "cell_type": "code",
   "execution_count": 17,
   "metadata": {},
   "outputs": [],
   "source": [
    "# Data\n",
    "csv_day_full = 'coin_day_full.csv'"
   ]
  },
  {
   "cell_type": "code",
   "execution_count": 18,
   "metadata": {},
   "outputs": [
    {
     "ename": "NameError",
     "evalue": "name 'df_coin_day_full' is not defined",
     "output_type": "error",
     "traceback": [
      "\u001b[1;31m---------------------------------------------------------------------------\u001b[0m",
      "\u001b[1;31mNameError\u001b[0m                                 Traceback (most recent call last)",
      "\u001b[1;32m<ipython-input-18-0516ba06d4ea>\u001b[0m in \u001b[0;36m<module>\u001b[1;34m()\u001b[0m\n\u001b[1;32m----> 1\u001b[1;33m \u001b[0mdf_coin_day_full\u001b[0m\u001b[1;33m[\u001b[0m\u001b[1;34m'coin'\u001b[0m\u001b[1;33m]\u001b[0m \u001b[1;33m=\u001b[0m \u001b[1;34m'BTC'\u001b[0m\u001b[1;33m\u001b[0m\u001b[0m\n\u001b[0m\u001b[0;32m      2\u001b[0m \u001b[0mdf_coin_day_full\u001b[0m\u001b[1;33m.\u001b[0m\u001b[0mto_csv\u001b[0m\u001b[1;33m(\u001b[0m\u001b[0mcsv_day_full\u001b[0m\u001b[1;33m)\u001b[0m\u001b[1;33m\u001b[0m\u001b[0m\n",
      "\u001b[1;31mNameError\u001b[0m: name 'df_coin_day_full' is not defined"
     ]
    }
   ],
   "source": [
    "df_coin_day_full['coin'] = 'BTC'\n",
    "df_coin_day_full.to_csv(csv_day_full)"
   ]
  },
  {
   "cell_type": "code",
   "execution_count": 20,
   "metadata": {},
   "outputs": [],
   "source": [
    "# print(COIN_DB.Symbol)"
   ]
  },
  {
   "cell_type": "code",
   "execution_count": null,
   "metadata": {},
   "outputs": [],
   "source": []
  },
  {
   "cell_type": "code",
   "execution_count": 19,
   "metadata": {},
   "outputs": [
    {
     "name": "stderr",
     "output_type": "stream",
     "text": [
      "From cffi callback <function _verify_callback at 0x000002212A750730>:\n",
      "Traceback (most recent call last):\n",
      "  File \"C:\\Anaconda3\\lib\\site-packages\\OpenSSL\\SSL.py\", line 221, in wrapper\n",
      "    @wraps(callback)\n",
      "KeyboardInterrupt\n",
      "ERROR:root:Failure while querying https://min-api.cryptocompare.com/data/histoday?fsym=AMP&tsym=BTC&e=Kucoin&limit=30&allData=true. \n",
      "HTTPSConnectionPool(host='min-api.cryptocompare.com', port=443): Max retries exceeded with url: /data/histoday?fsym=AMP&tsym=BTC&e=Kucoin&limit=30&allData=true (Caused by SSLError(SSLError(\"bad handshake: Error([('SSL routines', 'ssl3_get_server_certificate', 'certificate verify failed')],)\",),))\n"
     ]
    },
    {
     "ename": "KeyboardInterrupt",
     "evalue": "",
     "output_type": "error",
     "traceback": [
      "\u001b[1;31m---------------------------------------------------------------------------\u001b[0m",
      "\u001b[1;31mKeyboardInterrupt\u001b[0m                         Traceback (most recent call last)",
      "\u001b[1;32m<ipython-input-19-6eb9ea1734f9>\u001b[0m in \u001b[0;36m<module>\u001b[1;34m()\u001b[0m\n\u001b[0;32m     19\u001b[0m            \u001b[1;31m#break\u001b[0m\u001b[1;33m\u001b[0m\u001b[1;33m\u001b[0m\u001b[0m\n\u001b[0;32m     20\u001b[0m        \u001b[1;32mif\u001b[0m \u001b[0msymbol\u001b[0m \u001b[1;32mnot\u001b[0m \u001b[1;32min\u001b[0m \u001b[0mcoins_set_day\u001b[0m \u001b[1;33m:\u001b[0m\u001b[1;33m\u001b[0m\u001b[0m\n\u001b[1;32m---> 21\u001b[1;33m            \u001b[0mdata\u001b[0m \u001b[1;33m=\u001b[0m \u001b[0mget_historical_price_day_full\u001b[0m\u001b[1;33m(\u001b[0m\u001b[0msymbol\u001b[0m\u001b[1;33m,\u001b[0m \u001b[1;34m'BTC'\u001b[0m\u001b[1;33m,\u001b[0m \u001b[0mtime\u001b[0m\u001b[1;33m.\u001b[0m\u001b[0mtime\u001b[0m\u001b[1;33m(\u001b[0m\u001b[1;33m)\u001b[0m\u001b[1;33m,\u001b[0m\u001b[0mexchange\u001b[0m\u001b[1;33m)\u001b[0m\u001b[1;33m\u001b[0m\u001b[0m\n\u001b[0m\u001b[0;32m     22\u001b[0m             \u001b[1;31m# Get it's minute/hour/daily/weekly data\u001b[0m\u001b[1;33m\u001b[0m\u001b[1;33m\u001b[0m\u001b[0m\n\u001b[0;32m     23\u001b[0m            \u001b[1;32mif\u001b[0m \u001b[0mbool\u001b[0m\u001b[1;33m(\u001b[0m\u001b[0mdata\u001b[0m\u001b[1;33m)\u001b[0m \u001b[1;33m==\u001b[0m \u001b[1;32mTrue\u001b[0m \u001b[1;32mand\u001b[0m \u001b[0mdata\u001b[0m\u001b[1;33m[\u001b[0m\u001b[1;34m'Response'\u001b[0m\u001b[1;33m]\u001b[0m \u001b[1;33m!=\u001b[0m \u001b[1;34m'Error'\u001b[0m \u001b[1;33m:\u001b[0m\u001b[1;33m\u001b[0m\u001b[0m\n",
      "\u001b[1;32m<ipython-input-12-99a8d3cd2279>\u001b[0m in \u001b[0;36mget_historical_price_day_full\u001b[1;34m(*args)\u001b[0m\n\u001b[0;32m      1\u001b[0m \u001b[1;32mdef\u001b[0m \u001b[0mget_historical_price_day_full\u001b[0m\u001b[1;33m(\u001b[0m\u001b[1;33m*\u001b[0m\u001b[0margs\u001b[0m\u001b[1;33m)\u001b[0m\u001b[1;33m:\u001b[0m\u001b[1;33m\u001b[0m\u001b[0m\n\u001b[0;32m      2\u001b[0m     \u001b[1;34m\"\"\" Get price per day for all time  \"\"\"\u001b[0m\u001b[1;33m\u001b[0m\u001b[0m\n\u001b[1;32m----> 3\u001b[1;33m     \u001b[1;32mreturn\u001b[0m \u001b[0mget_historical_price_day\u001b[0m\u001b[1;33m(\u001b[0m\u001b[1;33m*\u001b[0m\u001b[0margs\u001b[0m\u001b[1;33m,\u001b[0m \u001b[0mallData\u001b[0m\u001b[1;33m=\u001b[0m\u001b[1;34m'true'\u001b[0m\u001b[1;33m)\u001b[0m\u001b[1;33m\u001b[0m\u001b[0m\n\u001b[0m",
      "\u001b[1;32m<ipython-input-11-348f10d333cf>\u001b[0m in \u001b[0;36mget_historical_price_day\u001b[1;34m(coin, to_curr, timestamp, exchange, limit, allData)\u001b[0m\n\u001b[0;32m      6\u001b[0m             \u001b[0mexchange\u001b[0m\u001b[1;33m,\u001b[0m\u001b[1;33m\u001b[0m\u001b[0m\n\u001b[0;32m      7\u001b[0m             \u001b[0mlimit\u001b[0m\u001b[1;33m,\u001b[0m\u001b[1;33m\u001b[0m\u001b[0m\n\u001b[1;32m----> 8\u001b[1;33m             \u001b[0mallData\u001b[0m\u001b[1;33m\u001b[0m\u001b[0m\n\u001b[0m\u001b[0;32m      9\u001b[0m         )\n\u001b[0;32m     10\u001b[0m     )\n",
      "\u001b[1;32m<ipython-input-5-9d7e6832c1c8>\u001b[0m in \u001b[0;36mquery_cryptocompare\u001b[1;34m(url)\u001b[0m\n\u001b[0;32m      2\u001b[0m     \u001b[1;34m\"\"\" Query CryptoCompare API \"\"\"\u001b[0m\u001b[1;33m\u001b[0m\u001b[0m\n\u001b[0;32m      3\u001b[0m     \u001b[1;32mtry\u001b[0m\u001b[1;33m:\u001b[0m\u001b[1;33m\u001b[0m\u001b[0m\n\u001b[1;32m----> 4\u001b[1;33m         \u001b[0mresponse\u001b[0m \u001b[1;33m=\u001b[0m \u001b[0mrequests\u001b[0m\u001b[1;33m.\u001b[0m\u001b[0mget\u001b[0m\u001b[1;33m(\u001b[0m\u001b[0murl\u001b[0m\u001b[1;33m)\u001b[0m\u001b[1;33m.\u001b[0m\u001b[0mjson\u001b[0m\u001b[1;33m(\u001b[0m\u001b[1;33m)\u001b[0m\u001b[1;33m\u001b[0m\u001b[0m\n\u001b[0m\u001b[0;32m      5\u001b[0m     \u001b[1;32mexcept\u001b[0m \u001b[0mException\u001b[0m \u001b[1;32mas\u001b[0m \u001b[0me\u001b[0m\u001b[1;33m:\u001b[0m\u001b[1;33m\u001b[0m\u001b[0m\n\u001b[0;32m      6\u001b[0m         \u001b[0mlogging\u001b[0m\u001b[1;33m.\u001b[0m\u001b[0merror\u001b[0m\u001b[1;33m(\u001b[0m\u001b[1;34m\"Failure while querying {query}. \\n{err}\"\u001b[0m\u001b[1;33m.\u001b[0m\u001b[0mformat\u001b[0m\u001b[1;33m(\u001b[0m\u001b[0mquery\u001b[0m\u001b[1;33m=\u001b[0m\u001b[0murl\u001b[0m\u001b[1;33m,\u001b[0m \u001b[0merr\u001b[0m\u001b[1;33m=\u001b[0m\u001b[0me\u001b[0m\u001b[1;33m)\u001b[0m\u001b[1;33m)\u001b[0m\u001b[1;33m\u001b[0m\u001b[0m\n",
      "\u001b[1;32mC:\\Anaconda3\\lib\\site-packages\\requests\\api.py\u001b[0m in \u001b[0;36mget\u001b[1;34m(url, params, **kwargs)\u001b[0m\n\u001b[0;32m     70\u001b[0m \u001b[1;33m\u001b[0m\u001b[0m\n\u001b[0;32m     71\u001b[0m     \u001b[0mkwargs\u001b[0m\u001b[1;33m.\u001b[0m\u001b[0msetdefault\u001b[0m\u001b[1;33m(\u001b[0m\u001b[1;34m'allow_redirects'\u001b[0m\u001b[1;33m,\u001b[0m \u001b[1;32mTrue\u001b[0m\u001b[1;33m)\u001b[0m\u001b[1;33m\u001b[0m\u001b[0m\n\u001b[1;32m---> 72\u001b[1;33m     \u001b[1;32mreturn\u001b[0m \u001b[0mrequest\u001b[0m\u001b[1;33m(\u001b[0m\u001b[1;34m'get'\u001b[0m\u001b[1;33m,\u001b[0m \u001b[0murl\u001b[0m\u001b[1;33m,\u001b[0m \u001b[0mparams\u001b[0m\u001b[1;33m=\u001b[0m\u001b[0mparams\u001b[0m\u001b[1;33m,\u001b[0m \u001b[1;33m**\u001b[0m\u001b[0mkwargs\u001b[0m\u001b[1;33m)\u001b[0m\u001b[1;33m\u001b[0m\u001b[0m\n\u001b[0m\u001b[0;32m     73\u001b[0m \u001b[1;33m\u001b[0m\u001b[0m\n\u001b[0;32m     74\u001b[0m \u001b[1;33m\u001b[0m\u001b[0m\n",
      "\u001b[1;32mC:\\Anaconda3\\lib\\site-packages\\requests\\api.py\u001b[0m in \u001b[0;36mrequest\u001b[1;34m(method, url, **kwargs)\u001b[0m\n\u001b[0;32m     56\u001b[0m     \u001b[1;31m# cases, and look like a memory leak in others.\u001b[0m\u001b[1;33m\u001b[0m\u001b[1;33m\u001b[0m\u001b[0m\n\u001b[0;32m     57\u001b[0m     \u001b[1;32mwith\u001b[0m \u001b[0msessions\u001b[0m\u001b[1;33m.\u001b[0m\u001b[0mSession\u001b[0m\u001b[1;33m(\u001b[0m\u001b[1;33m)\u001b[0m \u001b[1;32mas\u001b[0m \u001b[0msession\u001b[0m\u001b[1;33m:\u001b[0m\u001b[1;33m\u001b[0m\u001b[0m\n\u001b[1;32m---> 58\u001b[1;33m         \u001b[1;32mreturn\u001b[0m \u001b[0msession\u001b[0m\u001b[1;33m.\u001b[0m\u001b[0mrequest\u001b[0m\u001b[1;33m(\u001b[0m\u001b[0mmethod\u001b[0m\u001b[1;33m=\u001b[0m\u001b[0mmethod\u001b[0m\u001b[1;33m,\u001b[0m \u001b[0murl\u001b[0m\u001b[1;33m=\u001b[0m\u001b[0murl\u001b[0m\u001b[1;33m,\u001b[0m \u001b[1;33m**\u001b[0m\u001b[0mkwargs\u001b[0m\u001b[1;33m)\u001b[0m\u001b[1;33m\u001b[0m\u001b[0m\n\u001b[0m\u001b[0;32m     59\u001b[0m \u001b[1;33m\u001b[0m\u001b[0m\n\u001b[0;32m     60\u001b[0m \u001b[1;33m\u001b[0m\u001b[0m\n",
      "\u001b[1;32mC:\\Anaconda3\\lib\\site-packages\\requests\\sessions.py\u001b[0m in \u001b[0;36mrequest\u001b[1;34m(self, method, url, params, data, headers, cookies, files, auth, timeout, allow_redirects, proxies, hooks, stream, verify, cert, json)\u001b[0m\n\u001b[0;32m    506\u001b[0m         }\n\u001b[0;32m    507\u001b[0m         \u001b[0msend_kwargs\u001b[0m\u001b[1;33m.\u001b[0m\u001b[0mupdate\u001b[0m\u001b[1;33m(\u001b[0m\u001b[0msettings\u001b[0m\u001b[1;33m)\u001b[0m\u001b[1;33m\u001b[0m\u001b[0m\n\u001b[1;32m--> 508\u001b[1;33m         \u001b[0mresp\u001b[0m \u001b[1;33m=\u001b[0m \u001b[0mself\u001b[0m\u001b[1;33m.\u001b[0m\u001b[0msend\u001b[0m\u001b[1;33m(\u001b[0m\u001b[0mprep\u001b[0m\u001b[1;33m,\u001b[0m \u001b[1;33m**\u001b[0m\u001b[0msend_kwargs\u001b[0m\u001b[1;33m)\u001b[0m\u001b[1;33m\u001b[0m\u001b[0m\n\u001b[0m\u001b[0;32m    509\u001b[0m \u001b[1;33m\u001b[0m\u001b[0m\n\u001b[0;32m    510\u001b[0m         \u001b[1;32mreturn\u001b[0m \u001b[0mresp\u001b[0m\u001b[1;33m\u001b[0m\u001b[0m\n",
      "\u001b[1;32mC:\\Anaconda3\\lib\\site-packages\\requests\\sessions.py\u001b[0m in \u001b[0;36msend\u001b[1;34m(self, request, **kwargs)\u001b[0m\n\u001b[0;32m    616\u001b[0m \u001b[1;33m\u001b[0m\u001b[0m\n\u001b[0;32m    617\u001b[0m         \u001b[1;31m# Send the request\u001b[0m\u001b[1;33m\u001b[0m\u001b[1;33m\u001b[0m\u001b[0m\n\u001b[1;32m--> 618\u001b[1;33m         \u001b[0mr\u001b[0m \u001b[1;33m=\u001b[0m \u001b[0madapter\u001b[0m\u001b[1;33m.\u001b[0m\u001b[0msend\u001b[0m\u001b[1;33m(\u001b[0m\u001b[0mrequest\u001b[0m\u001b[1;33m,\u001b[0m \u001b[1;33m**\u001b[0m\u001b[0mkwargs\u001b[0m\u001b[1;33m)\u001b[0m\u001b[1;33m\u001b[0m\u001b[0m\n\u001b[0m\u001b[0;32m    619\u001b[0m \u001b[1;33m\u001b[0m\u001b[0m\n\u001b[0;32m    620\u001b[0m         \u001b[1;31m# Total elapsed time of the request (approximately)\u001b[0m\u001b[1;33m\u001b[0m\u001b[1;33m\u001b[0m\u001b[0m\n",
      "\u001b[1;32mC:\\Anaconda3\\lib\\site-packages\\requests\\adapters.py\u001b[0m in \u001b[0;36msend\u001b[1;34m(self, request, stream, timeout, verify, cert, proxies)\u001b[0m\n\u001b[0;32m    438\u001b[0m                     \u001b[0mdecode_content\u001b[0m\u001b[1;33m=\u001b[0m\u001b[1;32mFalse\u001b[0m\u001b[1;33m,\u001b[0m\u001b[1;33m\u001b[0m\u001b[0m\n\u001b[0;32m    439\u001b[0m                     \u001b[0mretries\u001b[0m\u001b[1;33m=\u001b[0m\u001b[0mself\u001b[0m\u001b[1;33m.\u001b[0m\u001b[0mmax_retries\u001b[0m\u001b[1;33m,\u001b[0m\u001b[1;33m\u001b[0m\u001b[0m\n\u001b[1;32m--> 440\u001b[1;33m                     \u001b[0mtimeout\u001b[0m\u001b[1;33m=\u001b[0m\u001b[0mtimeout\u001b[0m\u001b[1;33m\u001b[0m\u001b[0m\n\u001b[0m\u001b[0;32m    441\u001b[0m                 )\n\u001b[0;32m    442\u001b[0m \u001b[1;33m\u001b[0m\u001b[0m\n",
      "\u001b[1;32mC:\\Anaconda3\\lib\\site-packages\\urllib3\\connectionpool.py\u001b[0m in \u001b[0;36murlopen\u001b[1;34m(self, method, url, body, headers, retries, redirect, assert_same_host, timeout, pool_timeout, release_conn, chunked, body_pos, **response_kw)\u001b[0m\n\u001b[0;32m    599\u001b[0m                                                   \u001b[0mtimeout\u001b[0m\u001b[1;33m=\u001b[0m\u001b[0mtimeout_obj\u001b[0m\u001b[1;33m,\u001b[0m\u001b[1;33m\u001b[0m\u001b[0m\n\u001b[0;32m    600\u001b[0m                                                   \u001b[0mbody\u001b[0m\u001b[1;33m=\u001b[0m\u001b[0mbody\u001b[0m\u001b[1;33m,\u001b[0m \u001b[0mheaders\u001b[0m\u001b[1;33m=\u001b[0m\u001b[0mheaders\u001b[0m\u001b[1;33m,\u001b[0m\u001b[1;33m\u001b[0m\u001b[0m\n\u001b[1;32m--> 601\u001b[1;33m                                                   chunked=chunked)\n\u001b[0m\u001b[0;32m    602\u001b[0m \u001b[1;33m\u001b[0m\u001b[0m\n\u001b[0;32m    603\u001b[0m             \u001b[1;31m# If we're going to release the connection in ``finally:``, then\u001b[0m\u001b[1;33m\u001b[0m\u001b[1;33m\u001b[0m\u001b[0m\n",
      "\u001b[1;32mC:\\Anaconda3\\lib\\site-packages\\urllib3\\connectionpool.py\u001b[0m in \u001b[0;36m_make_request\u001b[1;34m(self, conn, method, url, timeout, chunked, **httplib_request_kw)\u001b[0m\n\u001b[0;32m    344\u001b[0m         \u001b[1;31m# Trigger any extra validation we need to do.\u001b[0m\u001b[1;33m\u001b[0m\u001b[1;33m\u001b[0m\u001b[0m\n\u001b[0;32m    345\u001b[0m         \u001b[1;32mtry\u001b[0m\u001b[1;33m:\u001b[0m\u001b[1;33m\u001b[0m\u001b[0m\n\u001b[1;32m--> 346\u001b[1;33m             \u001b[0mself\u001b[0m\u001b[1;33m.\u001b[0m\u001b[0m_validate_conn\u001b[0m\u001b[1;33m(\u001b[0m\u001b[0mconn\u001b[0m\u001b[1;33m)\u001b[0m\u001b[1;33m\u001b[0m\u001b[0m\n\u001b[0m\u001b[0;32m    347\u001b[0m         \u001b[1;32mexcept\u001b[0m \u001b[1;33m(\u001b[0m\u001b[0mSocketTimeout\u001b[0m\u001b[1;33m,\u001b[0m \u001b[0mBaseSSLError\u001b[0m\u001b[1;33m)\u001b[0m \u001b[1;32mas\u001b[0m \u001b[0me\u001b[0m\u001b[1;33m:\u001b[0m\u001b[1;33m\u001b[0m\u001b[0m\n\u001b[0;32m    348\u001b[0m             \u001b[1;31m# Py2 raises this as a BaseSSLError, Py3 raises it as socket timeout.\u001b[0m\u001b[1;33m\u001b[0m\u001b[1;33m\u001b[0m\u001b[0m\n",
      "\u001b[1;32mC:\\Anaconda3\\lib\\site-packages\\urllib3\\connectionpool.py\u001b[0m in \u001b[0;36m_validate_conn\u001b[1;34m(self, conn)\u001b[0m\n\u001b[0;32m    848\u001b[0m         \u001b[1;31m# Force connect early to allow us to validate the connection.\u001b[0m\u001b[1;33m\u001b[0m\u001b[1;33m\u001b[0m\u001b[0m\n\u001b[0;32m    849\u001b[0m         \u001b[1;32mif\u001b[0m \u001b[1;32mnot\u001b[0m \u001b[0mgetattr\u001b[0m\u001b[1;33m(\u001b[0m\u001b[0mconn\u001b[0m\u001b[1;33m,\u001b[0m \u001b[1;34m'sock'\u001b[0m\u001b[1;33m,\u001b[0m \u001b[1;32mNone\u001b[0m\u001b[1;33m)\u001b[0m\u001b[1;33m:\u001b[0m  \u001b[1;31m# AppEngine might not have  `.sock`\u001b[0m\u001b[1;33m\u001b[0m\u001b[0m\n\u001b[1;32m--> 850\u001b[1;33m             \u001b[0mconn\u001b[0m\u001b[1;33m.\u001b[0m\u001b[0mconnect\u001b[0m\u001b[1;33m(\u001b[0m\u001b[1;33m)\u001b[0m\u001b[1;33m\u001b[0m\u001b[0m\n\u001b[0m\u001b[0;32m    851\u001b[0m \u001b[1;33m\u001b[0m\u001b[0m\n\u001b[0;32m    852\u001b[0m         \u001b[1;32mif\u001b[0m \u001b[1;32mnot\u001b[0m \u001b[0mconn\u001b[0m\u001b[1;33m.\u001b[0m\u001b[0mis_verified\u001b[0m\u001b[1;33m:\u001b[0m\u001b[1;33m\u001b[0m\u001b[0m\n",
      "\u001b[1;32mC:\\Anaconda3\\lib\\site-packages\\urllib3\\connection.py\u001b[0m in \u001b[0;36mconnect\u001b[1;34m(self)\u001b[0m\n\u001b[0;32m    282\u001b[0m     \u001b[1;32mdef\u001b[0m \u001b[0mconnect\u001b[0m\u001b[1;33m(\u001b[0m\u001b[0mself\u001b[0m\u001b[1;33m)\u001b[0m\u001b[1;33m:\u001b[0m\u001b[1;33m\u001b[0m\u001b[0m\n\u001b[0;32m    283\u001b[0m         \u001b[1;31m# Add certificate verification\u001b[0m\u001b[1;33m\u001b[0m\u001b[1;33m\u001b[0m\u001b[0m\n\u001b[1;32m--> 284\u001b[1;33m         \u001b[0mconn\u001b[0m \u001b[1;33m=\u001b[0m \u001b[0mself\u001b[0m\u001b[1;33m.\u001b[0m\u001b[0m_new_conn\u001b[0m\u001b[1;33m(\u001b[0m\u001b[1;33m)\u001b[0m\u001b[1;33m\u001b[0m\u001b[0m\n\u001b[0m\u001b[0;32m    285\u001b[0m \u001b[1;33m\u001b[0m\u001b[0m\n\u001b[0;32m    286\u001b[0m         \u001b[0mhostname\u001b[0m \u001b[1;33m=\u001b[0m \u001b[0mself\u001b[0m\u001b[1;33m.\u001b[0m\u001b[0mhost\u001b[0m\u001b[1;33m\u001b[0m\u001b[0m\n",
      "\u001b[1;32mC:\\Anaconda3\\lib\\site-packages\\urllib3\\connection.py\u001b[0m in \u001b[0;36m_new_conn\u001b[1;34m(self)\u001b[0m\n\u001b[0;32m    139\u001b[0m         \u001b[1;32mtry\u001b[0m\u001b[1;33m:\u001b[0m\u001b[1;33m\u001b[0m\u001b[0m\n\u001b[0;32m    140\u001b[0m             conn = connection.create_connection(\n\u001b[1;32m--> 141\u001b[1;33m                 (self.host, self.port), self.timeout, **extra_kw)\n\u001b[0m\u001b[0;32m    142\u001b[0m \u001b[1;33m\u001b[0m\u001b[0m\n\u001b[0;32m    143\u001b[0m         \u001b[1;32mexcept\u001b[0m \u001b[0mSocketTimeout\u001b[0m \u001b[1;32mas\u001b[0m \u001b[0me\u001b[0m\u001b[1;33m:\u001b[0m\u001b[1;33m\u001b[0m\u001b[0m\n",
      "\u001b[1;32mC:\\Anaconda3\\lib\\site-packages\\urllib3\\util\\connection.py\u001b[0m in \u001b[0;36mcreate_connection\u001b[1;34m(address, timeout, source_address, socket_options)\u001b[0m\n\u001b[0;32m     71\u001b[0m             \u001b[1;32mif\u001b[0m \u001b[0msource_address\u001b[0m\u001b[1;33m:\u001b[0m\u001b[1;33m\u001b[0m\u001b[0m\n\u001b[0;32m     72\u001b[0m                 \u001b[0msock\u001b[0m\u001b[1;33m.\u001b[0m\u001b[0mbind\u001b[0m\u001b[1;33m(\u001b[0m\u001b[0msource_address\u001b[0m\u001b[1;33m)\u001b[0m\u001b[1;33m\u001b[0m\u001b[0m\n\u001b[1;32m---> 73\u001b[1;33m             \u001b[0msock\u001b[0m\u001b[1;33m.\u001b[0m\u001b[0mconnect\u001b[0m\u001b[1;33m(\u001b[0m\u001b[0msa\u001b[0m\u001b[1;33m)\u001b[0m\u001b[1;33m\u001b[0m\u001b[0m\n\u001b[0m\u001b[0;32m     74\u001b[0m             \u001b[1;32mreturn\u001b[0m \u001b[0msock\u001b[0m\u001b[1;33m\u001b[0m\u001b[0m\n\u001b[0;32m     75\u001b[0m \u001b[1;33m\u001b[0m\u001b[0m\n",
      "\u001b[1;31mKeyboardInterrupt\u001b[0m: "
     ]
    }
   ],
   "source": [
    "price_data={}\n",
    "# message, data = Mapi.getHistoDay('ZRX', to_symbol = 'BTC')\n",
    "df = pd.DataFrame()\n",
    "df2 = pd.DataFrame()\n",
    "df3 = pd.DataFrame()\n",
    "# print(data[0]['volumefrom'])\n",
    "i=0\n",
    "j=0\n",
    "coins_set_day = set()\n",
    "coins_set_min = set()\n",
    "coins_set_hour = set()\n",
    "got_all = False\n",
    "\n",
    "for exchange in EXCHANGES :    # For all exchanges\n",
    "    #if got_all == True:\n",
    "     #   break\n",
    "    for symbol in COIN_DB.Symbol:         #For every coin we get in linr number 16 in this code\n",
    "       #if len(coins_set) == 2:\n",
    "           #break\n",
    "       if symbol not in coins_set_day :\n",
    "           data = get_historical_price_day_full(symbol, 'BTC', time.time(),exchange)  \n",
    "            # Get it's minute/hour/daily/weekly data\n",
    "           if bool(data) == True and data['Response'] != 'Error' : \n",
    "               df_coin_day_all = get_readable_df(data)\n",
    "               df_coin_day_all['coin']=symbol\n",
    "               df_coin_day_all['exchange']=exchange \n",
    "               df = df.append(df_coin_day_all) \n",
    "               #print(df_coin_day_all)\n",
    "               coins_set_day.add(symbol)\n",
    "       #if len(coins_set_day) == 5:\n",
    "        #    got_all = True\n",
    "         #   break\n",
    "                       \n",
    "# print(df)\n",
    "csv_all_coins_day_full = 'all_coins_day_full.csv'\n",
    "df.to_csv(csv_all_coins_day_full, mode='a', header=False)"
   ]
  },
  {
   "cell_type": "code",
   "execution_count": 21,
   "metadata": {},
   "outputs": [],
   "source": [
    "# Maps csv (future data objects) to period granularity\n",
    "# If we store all data together in a single data source, we'll change this to a function which returns corresponding rows\n",
    "data_csv_period_mapping = {\n",
    "    \"day\": 'all_coins_day_full.csv',\n",
    "    \"hour\": 'all_coins_hour_full.csv',\n",
    "    \"min\": 'all_coins_min_full.csv'\n",
    "}"
   ]
  },
  {
   "cell_type": "code",
   "execution_count": 22,
   "metadata": {},
   "outputs": [],
   "source": [
    "def fetch_data(coin_symbol=['BTC'], nrows=1, period='day'):\n",
    "    \"\"\" Fetch data from csv for mentioned coin \n",
    "        This function fetches last nrows from csv corr to given period\n",
    "    \"\"\"\n",
    "    period = period.lower()\n",
    "    csv_filename = data_csv_period_mapping[period]\n",
    "    df_csv = pd.read_csv(csv_filename, index_col=None)\n",
    "    # print(coin_symbol)\n",
    "    return_df = []\n",
    "    for coin in coin_symbol:\n",
    "        # Get rows where 'coin' is one of the coin_symbols; then extract last nrows\n",
    "        req_data = df_csv[df_csv['coin'] == coin].iloc[-nrows:]\n",
    "        if req_data.empty:\n",
    "            continue\n",
    "        req_columns = ['coin', 'time', 'open', 'high', 'low', 'close', 'volumeto']\n",
    "        req_data = req_data[req_columns]\n",
    "        return_df.append(req_data)\n",
    "    return return_df\n",
    "    # return pd.concat(return_df)"
   ]
  },
  {
   "cell_type": "code",
   "execution_count": 23,
   "metadata": {},
   "outputs": [],
   "source": [
    "NPERIODS = 20\n",
    "# print(list(COIN_DB.Symbol))\n",
    "data = fetch_data(list(COIN_DB.Symbol), NPERIODS, TIMEFRAME)\n",
    "# print(data)\n",
    "# btc_data, eth_data = data"
   ]
  },
  {
   "cell_type": "code",
   "execution_count": 24,
   "metadata": {},
   "outputs": [
    {
     "name": "stdout",
     "output_type": "stream",
     "text": [
      "   coin                 time      open      high       low     close  volumeto\n",
      "1   1ST  2018-02-10 16:00:00  0.000058  0.000059  0.000051  0.000057     47.65\n",
      "2   1ST  2018-02-11 16:00:00  0.000057  0.000067  0.000055  0.000058    129.08\n",
      "3   1ST  2018-02-12 16:00:00  0.000058  0.000060  0.000055  0.000058     25.40\n",
      "4   1ST  2018-02-13 16:00:00  0.000058  0.000059  0.000055  0.000056     30.43\n",
      "5   1ST  2018-02-14 16:00:00  0.000056  0.000056  0.000050  0.000052     20.85\n",
      "6   1ST  2018-02-15 16:00:00  0.000052  0.000055  0.000050  0.000053     21.16\n",
      "7   1ST  2018-02-16 16:00:00  0.000053  0.000058  0.000051  0.000052     41.02\n",
      "8   1ST  2018-02-17 16:00:00  0.000052  0.000053  0.000047  0.000048     21.18\n",
      "9   1ST  2018-02-18 16:00:00  0.000048  0.000054  0.000047  0.000047     31.66\n",
      "10  1ST  2018-02-19 16:00:00  0.000047  0.000049  0.000035  0.000041     28.40\n",
      "11  1ST  2018-02-20 16:00:00  0.000041  0.000044  0.000040  0.000040     19.43\n",
      "12  1ST  2018-02-21 16:00:00  0.000040  0.000042  0.000037  0.000040     12.69\n",
      "13  1ST  2018-02-22 16:00:00  0.000040  0.000044  0.000025  0.000030     90.42\n",
      "14  1ST  2018-02-23 16:00:00  0.000030  0.000037  0.000026  0.000032    180.71\n",
      "15  1ST  2018-02-24 16:00:00  0.000032  0.000033  0.000029  0.000030     41.63\n",
      "16  1ST  2018-02-25 16:00:00  0.000030  0.000031  0.000027  0.000027     50.17\n",
      "17  1ST  2018-02-26 16:00:00  0.000027  0.000031  0.000027  0.000030     49.15\n",
      "18  1ST  2018-02-27 16:00:00  0.000030  0.000040  0.000027  0.000029    210.04\n",
      "19  1ST  2018-02-28 16:00:00  0.000029  0.000032  0.000026  0.000029     85.74\n",
      "20  1ST  2018-03-01 16:00:00  0.000029  0.000032  0.000022  0.000029     59.84\n"
     ]
    }
   ],
   "source": [
    "# print(type(btc_data))\n",
    "print(data[0])\n",
    "# btc_data.shape"
   ]
  },
  {
   "cell_type": "code",
   "execution_count": 335,
   "metadata": {},
   "outputs": [],
   "source": [
    "from talib import abstract\n",
    "from talib.abstract import *\n",
    "inp_data = data[0]\n",
    "inp_data_two = data[1]\n",
    "inp_sma = SMA(inp_data, timeperiod=3)\n",
    "inp_sma_two = SMA(inp_data_two,timeperiod=5)\n",
    "inp_rsi = talib.RSI(inp_data.close.values, timeperiod=14)\n",
    "inp_mfi = talib.MFI(inp_data.high.values, inp_data.low.values, inp_data.close.values, inp_data.volumeto.values, timeperiod=14)\n",
    "inp_bbands = talib.BBANDS(inp_data.close.values, timeperiod=20, nbdevup=2, nbdevdn=2, matype=0)"
   ]
  },
  {
   "cell_type": "code",
   "execution_count": 336,
   "metadata": {},
   "outputs": [],
   "source": [
    "inp_data['SMA'] = inp_sma\n",
    "inp_data_two['SMA']=inp_sma_two"
   ]
  },
  {
   "cell_type": "code",
   "execution_count": 337,
   "metadata": {},
   "outputs": [],
   "source": [
    "def update_indicator(csv_filename, indicator_data, indicator):\n",
    "    \"\"\" Update the given csv_file with new column values for corr rows \"\"\"\n",
    "    df_csv = pd.read_csv(csv_filename, index_col=None)\n",
    "    if indicator not in df_csv.columns:\n",
    "        df_csv[indicator] = np.nan\n",
    "    df_csv = df_csv.set_index(['coin', 'time'])\n",
    "    indicator_data = indicator_data.set_index(['coin', 'time'])\n",
    "    df_csv.update(indicator_data)\n",
    "    df_csv.to_csv(csv_filename)"
   ]
  },
  {
   "cell_type": "code",
   "execution_count": 339,
   "metadata": {
    "scrolled": true
   },
   "outputs": [],
   "source": [
    "update_indicator('all_coins_day_full.csv', inp_data, 'SMA')\n",
    "update_indicator('all_coins_day_full.csv', inp_data_two,'SMA')"
   ]
  },
  {
   "cell_type": "code",
   "execution_count": null,
   "metadata": {},
   "outputs": [],
   "source": [
    "def fetch_last_day(coin):\n",
    "    \"\"\" Get data for last day \"\"\"\n",
    "    coin_last_day = get_historical_price_last_day(COIN)\n",
    "    df_coin_last_day = get_readable_df(coin_last_day)\n",
    "    df_coin_last_day['coin'] = coin\n",
    "    last_entry = df_coin_last_day.iloc[-1:]\n",
    "    return last_entry"
   ]
  },
  {
   "cell_type": "code",
   "execution_count": null,
   "metadata": {},
   "outputs": [],
   "source": [
    "def update_last_day(coin):\n",
    "    \"\"\" Update csv for last day \"\"\"\n",
    "    record_last_day = fetch_last_day(COIN)\n",
    "    csv_day = 'coin_day_full.csv'\n",
    "    df_day = pd.read_csv(csv_day)\n",
    "    record = df_day[df_day['timestamp'] == record_last_day.iloc[0]['timestamp']]\n",
    "    if record.empty:\n",
    "        record_last_day.to_csv(csv_day, mode='a', header=False)"
   ]
  },
  {
   "cell_type": "code",
   "execution_count": null,
   "metadata": {},
   "outputs": [],
   "source": [
    "from functools import partial\n",
    "update_last_day_partial = partial(update_last_day, COIN)"
   ]
  },
  {
   "cell_type": "code",
   "execution_count": null,
   "metadata": {},
   "outputs": [],
   "source": [
    "from apscheduler.schedulers.background import BackgroundScheduler\n",
    "scheduler = BackgroundScheduler({'apscheduler.timezone': 'UTC'})\n",
    "# Update data every day at 5:30pm\n",
    "scheduler.add_job(update_last_day_partial, 'cron', day_of_week='*', hour=17, minute=30)\n",
    "scheduler.start()"
   ]
  }
 ],
 "metadata": {
  "anaconda-cloud": {},
  "kernelspec": {
   "display_name": "Python [default]",
   "language": "python",
   "name": "python3"
  },
  "language_info": {
   "codemirror_mode": {
    "name": "ipython",
    "version": 3
   },
   "file_extension": ".py",
   "mimetype": "text/x-python",
   "name": "python",
   "nbconvert_exporter": "python",
   "pygments_lexer": "ipython3",
   "version": "3.5.5"
  }
 },
 "nbformat": 4,
 "nbformat_minor": 2
}
