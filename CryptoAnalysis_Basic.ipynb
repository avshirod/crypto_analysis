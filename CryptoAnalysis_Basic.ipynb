{
 "cells": [
  {
   "cell_type": "markdown",
   "metadata": {},
   "source": [
    "README: https://docs.google.com/document/d/1cxqU0d6jLgmjK3pTIK_nI7M9fo7NDUt3qGktD8knNZ8/edit  \n",
    "\n",
    "API Details:  \n",
    "https://min-api.cryptocompare.com/  \n",
    "https://www.cryptocompare.com/api  \n",
    "\n",
    "Code Ref:  \n",
    "https://github.com/MaverickLLC/cryptocompareapi_python_MavericLLC/blob/master/cryptocompare_maverick.py  \n",
    "https://github.com/lagerfeuer/cryptocompare/blob/master/cryptocompare/cryptocompare.py  "
   ]
  },
  {
   "cell_type": "markdown",
   "metadata": {},
   "source": [
    "TO DO:  \n",
    "- Make generic functions for tasks for modularity\n",
    "- Make a class for individual coin if required\n",
    "- Incorporate https://github.com/mrjbq7/ta-lib\n",
    "- Notifiers https://github.com/AbenezerMamo/crypto-signal/tree/master/app/notifiers"
   ]
  },
  {
   "cell_type": "code",
   "execution_count": 1,
   "metadata": {},
   "outputs": [],
   "source": [
    "# Imports\n",
    "import time\n",
    "import logging\n",
    "import requests\n",
    "import datetime\n",
    "\n",
    "import pandas as pd"
   ]
  },
  {
   "cell_type": "code",
   "execution_count": 2,
   "metadata": {},
   "outputs": [],
   "source": [
    "# API\n",
    "API_ENDPOINT = \"https://min-api.cryptocompare.com/data\"\n",
    "OLD_API_ENDPOINT = \"https://www.cryptocompare.com/api/data\"\n",
    "\n",
    "URL_COIN_LIST = OLD_API_ENDPOINT + \"/coinlist/\"\n",
    "URL_COIN_SNAPSHOT = OLD_API_ENDPOINT + \"/coinsnapshot/?fsym={}&tsym={}&e={}\"\n",
    "\n",
    "URL_PRICE = API_ENDPOINT + \"/pricemulti?fsyms={}&tsyms={}&e={}\"\n",
    "URL_PRICE_MULTI = API_ENDPOINT + \"/pricemulti?fsyms={}&tsyms={}&e={}\"\n",
    "URL_PRICE_MULTI_FULL = API_ENDPOINT + \"/pricemultifull?fsyms={}&tsyms={}&e={}\"\n",
    "\n",
    "URL_HIST_PRICE = API_ENDPOINT + \"/pricehistorical?fsym={}&tsyms={}&ts={}\"\n",
    "URL_HIST_PRICE_DAY = API_ENDPOINT + \"/histoday?fsym={}&tsym={}&e={}&limit={}&allData={}\"\n",
    "URL_HIST_PRICE_HOUR = API_ENDPOINT + \"/histohour?fsym={}&tsym={}&e={}&limit={}\"\n",
    "URL_HIST_PRICE_MINUTE = API_ENDPOINT + \"/histominute?fsym={}&tsym={}&e={}&toTs={}\"\n",
    "\n",
    "URL_AVG = API_ENDPOINT + \"/generateAvg?fsym={}&tsym={}&e={}\"\n",
    "URL_DAY_AVG = API_ENDPOINT + \"/dayAvg?fsym={}&tsym={}&e={}\""
   ]
  },
  {
   "cell_type": "code",
   "execution_count": 3,
   "metadata": {},
   "outputs": [],
   "source": [
    "# FIELDS\n",
    "PRICE = 'PRICE'\n",
    "HIGH = 'HIGH24HOUR'\n",
    "LOW = 'LOW24HOUR'\n",
    "VOLUME = 'VOLUME24HOUR'\n",
    "CHANGE = 'CHANGE24HOUR'\n",
    "CHANGE_PERCENT = 'CHANGEPCT24HOUR'\n",
    "MARKETCAP = 'MKTCAP'"
   ]
  },
  {
   "cell_type": "code",
   "execution_count": 4,
   "metadata": {},
   "outputs": [],
   "source": [
    "# Defaults\n",
    "CURR = \"USD\"\n",
    "EXCHANGE = \"CCCAGG\"\n",
    "COIN = 'BTC'\n",
    "COIN_LIST = ['BTC', 'ETH']"
   ]
  },
  {
   "cell_type": "code",
   "execution_count": 5,
   "metadata": {},
   "outputs": [],
   "source": [
    "def query_cryptocompare(url):\n",
    "    \"\"\" Query CryptoCompare API \"\"\"\n",
    "    try:\n",
    "        response = requests.get(url).json()\n",
    "    except Exception as e:\n",
    "        logging.error(\"Failure while querying {query}. \\n{err}\".format(query=url, err=e))\n",
    "        return None\n",
    "    return response"
   ]
  },
  {
   "cell_type": "code",
   "execution_count": 6,
   "metadata": {},
   "outputs": [],
   "source": [
    "# Helper functions\n",
    "def format_parameter(parameter):\n",
    "    \"\"\" Format parameters for the query \"\"\"\n",
    "    if isinstance(parameter, list):\n",
    "        return ','.join(parameter)\n",
    "    else:\n",
    "        return parameter\n",
    "    \n",
    "def convert_timestamp(timestamp):\n",
    "    return datetime.datetime.fromtimestamp(int(timestamp)).strftime('%Y-%m-%d %H:%M:%S')\n",
    "\n",
    "def get_data(response):\n",
    "    \"\"\" Separate query data from response \"\"\"\n",
    "    header = {key: (value if key != 'Data' else len(value)) for key, value in response.items()}\n",
    "    data = response['Data']\n",
    "    return header, data\n",
    "\n",
    "def get_readable_df(response):\n",
    "    \"\"\" Convert timestamp into readable datetime \"\"\"\n",
    "    header, data = get_data(response)\n",
    "    df_data = pd.DataFrame(data)\n",
    "    df_data = df_data.rename(columns={'time': 'timestamp'})\n",
    "    df_data['time'] = df_data.timestamp.apply(convert_timestamp)\n",
    "    df_data = df_data.set_index('time')\n",
    "    del df_data['timestamp']\n",
    "    return df_data"
   ]
  },
  {
   "cell_type": "code",
   "execution_count": 7,
   "metadata": {},
   "outputs": [],
   "source": [
    "def get_coin_list():\n",
    "    \"\"\" Get coin list \"\"\"\n",
    "    return query_cryptocompare(URL_COIN_LIST)['Data']"
   ]
  },
  {
   "cell_type": "code",
   "execution_count": 8,
   "metadata": {},
   "outputs": [],
   "source": [
    "coins = get_coin_list()\n",
    "COIN_DB = pd.DataFrame.from_dict(coins, orient='index')"
   ]
  },
  {
   "cell_type": "code",
   "execution_count": 9,
   "metadata": {},
   "outputs": [],
   "source": [
    "def get_price(coin, to_curr=CURR, exchange=EXCHANGE):\n",
    "    \"\"\" Get real time price of the coin \"\"\"\n",
    "    if isinstance(coin, list):\n",
    "        return query_cryptocompare(URL_PRICE_MULTI.format(\n",
    "                format_parameter(coin), format_parameter(to_curr), exchange\n",
    "            )\n",
    "        )\n",
    "    else:\n",
    "        return query_cryptocompare(URL_PRICE.format(coin, format_parameter(to_curr), exchange))"
   ]
  },
  {
   "cell_type": "code",
   "execution_count": 10,
   "metadata": {},
   "outputs": [
    {
     "data": {
      "text/plain": [
       "{'BTC': {'USD': 11447.73}, 'ETH': {'USD': 947.17}}"
      ]
     },
     "execution_count": 10,
     "metadata": {},
     "output_type": "execute_result"
    }
   ],
   "source": [
    "get_price(COIN_LIST)"
   ]
  },
  {
   "cell_type": "code",
   "execution_count": 11,
   "metadata": {},
   "outputs": [],
   "source": [
    "def get_historical_price_timestamp(coin, to_curr=CURR, timestamp=time.time(), exchange=EXCHANGE):\n",
    "    \"\"\" Get value of coin in currency at a particular timestamp \"\"\"\n",
    "    if isinstance(timestamp, datetime.datetime):\n",
    "        timestamp = time.mktime(timestamp.timetuple())\n",
    "    \n",
    "    return query_cryptocompare(URL_HIST_PRICE.format(\n",
    "            coin, \n",
    "            format_parameter(to_curr),\n",
    "            int(timestamp),\n",
    "            exchange\n",
    "        )\n",
    "    )"
   ]
  },
  {
   "cell_type": "code",
   "execution_count": 12,
   "metadata": {},
   "outputs": [
    {
     "data": {
      "text/plain": [
       "{'BTC': {'USD': 11171.63}}"
      ]
     },
     "execution_count": 12,
     "metadata": {},
     "output_type": "execute_result"
    }
   ],
   "source": [
    "get_historical_price_timestamp(COIN)"
   ]
  },
  {
   "cell_type": "code",
   "execution_count": 13,
   "metadata": {},
   "outputs": [],
   "source": [
    "def get_historical_price_day(coin, to_curr=CURR, timestamp=time.time(), exchange=EXCHANGE, limit=30, allData='false'):\n",
    "    \"\"\" Get price per day for the past month \"\"\"\n",
    "    return query_cryptocompare(URL_HIST_PRICE_DAY.format(\n",
    "            coin,\n",
    "            format_parameter(to_curr),\n",
    "            exchange,\n",
    "            limit,\n",
    "            allData\n",
    "        )\n",
    "    )\n",
    "\n",
    "def get_historical_price_last_day(*args):\n",
    "    \"\"\" Get price for last day \"\"\"\n",
    "    return get_historical_price_day(*args, limit=1)"
   ]
  },
  {
   "cell_type": "code",
   "execution_count": 14,
   "metadata": {},
   "outputs": [],
   "source": [
    "coin_day = get_historical_price_day(COIN)\n",
    "df_coin_day = get_readable_df(coin_day)"
   ]
  },
  {
   "cell_type": "code",
   "execution_count": 15,
   "metadata": {},
   "outputs": [],
   "source": [
    "def get_historical_price_day_full(*args):\n",
    "    \"\"\" Get price per day for all time  \"\"\"\n",
    "    return get_historical_price_day(*args, allData='true')"
   ]
  },
  {
   "cell_type": "code",
   "execution_count": 16,
   "metadata": {},
   "outputs": [],
   "source": [
    "coin_day_full = get_historical_price_day_full(COIN)\n",
    "df_coin_day_full = get_readable_df(coin_day_full)"
   ]
  },
  {
   "cell_type": "code",
   "execution_count": 17,
   "metadata": {},
   "outputs": [],
   "source": [
    "def get_historical_price_hour(coin, to_curr=CURR, exchange=EXCHANGE, limit=168):\n",
    "    \"\"\" Get price per hour for past 7 days \"\"\"\n",
    "    return query_cryptocompare(URL_HIST_PRICE_HOUR.format(\n",
    "            coin,\n",
    "            format_parameter(to_curr),\n",
    "            exchange,\n",
    "            limit\n",
    "        )\n",
    "    )\n",
    "\n",
    "def get_historical_price_last_hour(*args, **kwargs):\n",
    "    \"\"\" Get price for the last hour \"\"\"\n",
    "    return get_historical_price_hour(*args, **kwargs, limit=1)"
   ]
  },
  {
   "cell_type": "code",
   "execution_count": 18,
   "metadata": {},
   "outputs": [],
   "source": [
    "coin_hour = get_historical_price_hour(COIN)\n",
    "df_coin_hour = get_readable_df(coin_hour)"
   ]
  },
  {
   "cell_type": "code",
   "execution_count": 19,
   "metadata": {},
   "outputs": [],
   "source": [
    "def get_historical_price_minute(coin, to_curr=CURR, exchange=EXCHANGE, toTs=time.time()):\n",
    "    \"\"\" Get price per min for past 24 hours \"\"\"\n",
    "    return query_cryptocompare(URL_HIST_PRICE_MINUTE.format(\n",
    "            coin,\n",
    "            format_parameter(to_curr),\n",
    "            exchange,\n",
    "            int(toTs)\n",
    "        )\n",
    "    )"
   ]
  },
  {
   "cell_type": "code",
   "execution_count": 20,
   "metadata": {},
   "outputs": [],
   "source": [
    "coin_min = get_historical_price_minute(COIN)\n",
    "df_coin_min = get_readable_df(coin_min)"
   ]
  },
  {
   "cell_type": "code",
   "execution_count": 52,
   "metadata": {},
   "outputs": [],
   "source": [
    "def get_historical_price_minute_by_day(*args, days_ago=0):\n",
    "    \"\"\" Get price per min for 24 hours till days_ago \"\"\"\n",
    "    if days_ago > 7:\n",
    "        logging.error(\"Can not get information by minute for more than 7 days. Getting information for last possible day.\")\n",
    "        days_ago = 7\n",
    "    days_ago -= 1  # Subtracting one day as 'toTs' considers ending timestamp\n",
    "    ts = datetime.datetime.today() - datetime.timedelta(days_ago)\n",
    "    ts = time.mktime(ts.timetuple())\n",
    "    return get_historical_price_minute(*args, toTs=int(ts))"
   ]
  },
  {
   "cell_type": "code",
   "execution_count": 22,
   "metadata": {},
   "outputs": [],
   "source": [
    "coin_minute_week = get_historical_price_minute_by_day(COIN, days_ago=7)\n",
    "df_coin_minute_week = get_readable_df(coin_minute_week)"
   ]
  },
  {
   "cell_type": "markdown",
   "metadata": {},
   "source": [
    "-----------------------"
   ]
  },
  {
   "cell_type": "code",
   "execution_count": 23,
   "metadata": {},
   "outputs": [],
   "source": [
    "# Data\n",
    "csv_day_full = 'coin_day_full.csv'"
   ]
  },
  {
   "cell_type": "code",
   "execution_count": 24,
   "metadata": {},
   "outputs": [],
   "source": [
    "df_coin_day_full['coin'] = 'BTC'\n",
    "df_coin_day_full.to_csv(csv_day_full)"
   ]
  },
  {
   "cell_type": "code",
   "execution_count": 25,
   "metadata": {},
   "outputs": [],
   "source": [
    "def fetch_last_day(coin):\n",
    "    \"\"\" Get data for last day \"\"\"\n",
    "    coin_last_day = get_historical_price_last_day(COIN)\n",
    "    df_coin_last_day = get_readable_df(coin_last_day)\n",
    "    df_coin_last_day['coin'] = coin\n",
    "    last_entry = df_coin_last_day.iloc[-1:]\n",
    "    return last_entry"
   ]
  },
  {
   "cell_type": "code",
   "execution_count": 53,
   "metadata": {},
   "outputs": [],
   "source": [
    "def update_last_day(coin):\n",
    "    \"\"\" Update csv for last day \"\"\"\n",
    "    record_last_day = fetch_last_day(COIN)\n",
    "    csv_day = 'coin_day_full.csv'\n",
    "    df_day = pd.read_csv(csv_day)\n",
    "    record = df_day[df_day['time'] == record_last_day.iloc[0]['time']]\n",
    "    if record.empty:\n",
    "        record_last_day.to_csv(csv_day, mode='a', header=False)"
   ]
  },
  {
   "cell_type": "code",
   "execution_count": 27,
   "metadata": {},
   "outputs": [],
   "source": [
    "from functools import partial\n",
    "update_last_day_partial = partial(update_last_day, COIN)"
   ]
  },
  {
   "cell_type": "code",
   "execution_count": 58,
   "metadata": {},
   "outputs": [],
   "source": [
    "from apscheduler.schedulers.background import BackgroundScheduler\n",
    "scheduler = BackgroundScheduler({'apscheduler.timezone': 'UTC'})\n",
    "# Update data every day at 5:30pm\n",
    "scheduler.add_job(update_last_day_partial, 'cron', day_of_week='*', hour=17, minute=30)\n",
    "scheduler.start()"
   ]
  },
  {
   "cell_type": "markdown",
   "metadata": {},
   "source": [
    "--------------------------"
   ]
  },
  {
   "cell_type": "code",
   "execution_count": 54,
   "metadata": {},
   "outputs": [],
   "source": [
    "# Maps csv (future data objects) to period granularity\n",
    "# If we store all data together in a single data source, we'll change this to a function which returns corresponding rows\n",
    "data_csv_period_mapping = {\n",
    "    \"day\": 'coin_day_full.csv',\n",
    "    \"hour\": 'coin_hour.csv',\n",
    "    \"min\": 'coin_min.csv'\n",
    "}"
   ]
  },
  {
   "cell_type": "code",
   "execution_count": 50,
   "metadata": {},
   "outputs": [],
   "source": [
    "def fetch_data(coin_symbol=['BTC'], nrows=1, period='day'):\n",
    "    \"\"\" Fetch data from csv for mentioned coin \n",
    "        This function fetches last nrows from csv corr to given period\n",
    "    \"\"\"\n",
    "    csv_filename = data_csv_period_mapping[period]\n",
    "    df_csv = pd.read_csv(csv_filename, index_col='time')\n",
    "    \n",
    "    # Get rows where 'coin' is one of the coin_symbols; then extract last nrows\n",
    "    req_data = df_csv[df_csv['coin'].isin(coin_symbol)].iloc[-nrows:]\n",
    "    req_columns = ['open', 'high', 'low', 'close', 'volumeto']\n",
    "    req_data = req_data[req_columns]\n",
    "    return req_data"
   ]
  },
  {
   "cell_type": "code",
   "execution_count": 51,
   "metadata": {},
   "outputs": [
    {
     "data": {
      "text/html": [
       "<div>\n",
       "<style scoped>\n",
       "    .dataframe tbody tr th:only-of-type {\n",
       "        vertical-align: middle;\n",
       "    }\n",
       "\n",
       "    .dataframe tbody tr th {\n",
       "        vertical-align: top;\n",
       "    }\n",
       "\n",
       "    .dataframe thead th {\n",
       "        text-align: right;\n",
       "    }\n",
       "</style>\n",
       "<table border=\"1\" class=\"dataframe\">\n",
       "  <thead>\n",
       "    <tr style=\"text-align: right;\">\n",
       "      <th></th>\n",
       "      <th>open</th>\n",
       "      <th>high</th>\n",
       "      <th>low</th>\n",
       "      <th>close</th>\n",
       "      <th>volumeto</th>\n",
       "    </tr>\n",
       "    <tr>\n",
       "      <th>time</th>\n",
       "      <th></th>\n",
       "      <th></th>\n",
       "      <th></th>\n",
       "      <th></th>\n",
       "      <th></th>\n",
       "    </tr>\n",
       "  </thead>\n",
       "  <tbody>\n",
       "    <tr>\n",
       "      <th>2018-02-10 16:00:00</th>\n",
       "      <td>8569.32</td>\n",
       "      <td>8573.35</td>\n",
       "      <td>7862.31</td>\n",
       "      <td>8084.61</td>\n",
       "      <td>1.013772e+09</td>\n",
       "    </tr>\n",
       "    <tr>\n",
       "      <th>2018-02-11 16:00:00</th>\n",
       "      <td>8084.61</td>\n",
       "      <td>8997.34</td>\n",
       "      <td>8084.41</td>\n",
       "      <td>8911.27</td>\n",
       "      <td>1.085922e+09</td>\n",
       "    </tr>\n",
       "    <tr>\n",
       "      <th>2018-02-12 16:00:00</th>\n",
       "      <td>8911.17</td>\n",
       "      <td>8955.15</td>\n",
       "      <td>8379.35</td>\n",
       "      <td>8544.69</td>\n",
       "      <td>8.533204e+08</td>\n",
       "    </tr>\n",
       "    <tr>\n",
       "      <th>2018-02-13 16:00:00</th>\n",
       "      <td>8544.69</td>\n",
       "      <td>9508.22</td>\n",
       "      <td>8542.98</td>\n",
       "      <td>9485.64</td>\n",
       "      <td>1.220863e+09</td>\n",
       "    </tr>\n",
       "    <tr>\n",
       "      <th>2018-02-14 16:00:00</th>\n",
       "      <td>9485.64</td>\n",
       "      <td>10223.58</td>\n",
       "      <td>9363.38</td>\n",
       "      <td>10033.75</td>\n",
       "      <td>1.666668e+09</td>\n",
       "    </tr>\n",
       "    <tr>\n",
       "      <th>2018-02-15 16:00:00</th>\n",
       "      <td>10033.75</td>\n",
       "      <td>10303.14</td>\n",
       "      <td>9720.38</td>\n",
       "      <td>10188.73</td>\n",
       "      <td>1.061828e+09</td>\n",
       "    </tr>\n",
       "    <tr>\n",
       "      <th>2018-02-16 16:00:00</th>\n",
       "      <td>10188.73</td>\n",
       "      <td>11119.45</td>\n",
       "      <td>10074.07</td>\n",
       "      <td>11097.21</td>\n",
       "      <td>1.327921e+09</td>\n",
       "    </tr>\n",
       "    <tr>\n",
       "      <th>2018-02-17 16:00:00</th>\n",
       "      <td>11097.21</td>\n",
       "      <td>11288.34</td>\n",
       "      <td>10161.01</td>\n",
       "      <td>10417.23</td>\n",
       "      <td>1.659704e+09</td>\n",
       "    </tr>\n",
       "    <tr>\n",
       "      <th>2018-02-18 16:00:00</th>\n",
       "      <td>10418.12</td>\n",
       "      <td>11265.96</td>\n",
       "      <td>10336.32</td>\n",
       "      <td>11182.28</td>\n",
       "      <td>1.186536e+09</td>\n",
       "    </tr>\n",
       "    <tr>\n",
       "      <th>2018-02-19 16:00:00</th>\n",
       "      <td>11182.28</td>\n",
       "      <td>11525.62</td>\n",
       "      <td>11172.80</td>\n",
       "      <td>11478.97</td>\n",
       "      <td>3.348234e+08</td>\n",
       "    </tr>\n",
       "  </tbody>\n",
       "</table>\n",
       "</div>"
      ],
      "text/plain": [
       "                         open      high       low     close      volumeto\n",
       "time                                                                     \n",
       "2018-02-10 16:00:00   8569.32   8573.35   7862.31   8084.61  1.013772e+09\n",
       "2018-02-11 16:00:00   8084.61   8997.34   8084.41   8911.27  1.085922e+09\n",
       "2018-02-12 16:00:00   8911.17   8955.15   8379.35   8544.69  8.533204e+08\n",
       "2018-02-13 16:00:00   8544.69   9508.22   8542.98   9485.64  1.220863e+09\n",
       "2018-02-14 16:00:00   9485.64  10223.58   9363.38  10033.75  1.666668e+09\n",
       "2018-02-15 16:00:00  10033.75  10303.14   9720.38  10188.73  1.061828e+09\n",
       "2018-02-16 16:00:00  10188.73  11119.45  10074.07  11097.21  1.327921e+09\n",
       "2018-02-17 16:00:00  11097.21  11288.34  10161.01  10417.23  1.659704e+09\n",
       "2018-02-18 16:00:00  10418.12  11265.96  10336.32  11182.28  1.186536e+09\n",
       "2018-02-19 16:00:00  11182.28  11525.62  11172.80  11478.97  3.348234e+08"
      ]
     },
     "execution_count": 51,
     "metadata": {},
     "output_type": "execute_result"
    }
   ],
   "source": [
    "fetch_data(['BTC'], 10, 'day')"
   ]
  }
 ],
 "metadata": {
  "anaconda-cloud": {},
  "kernelspec": {
   "display_name": "Python [default]",
   "language": "python",
   "name": "python3"
  },
  "language_info": {
   "codemirror_mode": {
    "name": "ipython",
    "version": 3
   },
   "file_extension": ".py",
   "mimetype": "text/x-python",
   "name": "python",
   "nbconvert_exporter": "python",
   "pygments_lexer": "ipython3",
   "version": "3.5.5"
  }
 },
 "nbformat": 4,
 "nbformat_minor": 2
}
