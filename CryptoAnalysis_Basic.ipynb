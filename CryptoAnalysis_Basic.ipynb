{
 "cells": [
  {
   "cell_type": "markdown",
   "metadata": {},
   "source": [
    "README: https://docs.google.com/document/d/1cxqU0d6jLgmjK3pTIK_nI7M9fo7NDUt3qGktD8knNZ8/edit  \n",
    "\n",
    "API Details:  \n",
    "https://min-api.cryptocompare.com/  \n",
    "https://www.cryptocompare.com/api  \n",
    "\n",
    "Code Ref:  \n",
    "https://github.com/MaverickLLC/cryptocompareapi_python_MavericLLC/blob/master/cryptocompare_maverick.py  \n",
    "https://github.com/lagerfeuer/cryptocompare/blob/master/cryptocompare/cryptocompare.py  "
   ]
  },
  {
   "cell_type": "markdown",
   "metadata": {},
   "source": [
    "TO DO:  \n",
    "- Make generic functions for tasks for modularity\n",
    "- Make a class for individual coin if required\n",
    "- Incorporate https://github.com/mrjbq7/ta-lib"
   ]
  },
  {
   "cell_type": "code",
   "execution_count": 1,
   "metadata": {},
   "outputs": [],
   "source": [
    "# Imports\n",
    "import time\n",
    "import logging\n",
    "import requests\n",
    "import datetime\n",
    "import talib\n",
    "import numpy as np\n",
    "import pandas as pd\n",
    "from collections import OrderedDict, defaultdict"
   ]
  },
  {
   "cell_type": "code",
   "execution_count": 2,
   "metadata": {},
   "outputs": [],
   "source": [
    "# API\n",
    "API_ENDPOINT = \"https://min-api.cryptocompare.com/data\"\n",
    "OLD_API_ENDPOINT = \"https://www.cryptocompare.com/api/data\"\n",
    "\n",
    "URL_COIN_LIST = OLD_API_ENDPOINT + \"/coinlist/\"\n",
    "URL_COIN_SNAPSHOT = OLD_API_ENDPOINT + \"/coinsnapshot/?fsym={}&tsym={}&e={}\"\n",
    "\n",
    "URL_PRICE = API_ENDPOINT + \"/pricemulti?fsyms={}&tsyms={}&e={}\"\n",
    "URL_PRICE_MULTI = API_ENDPOINT + \"/pricemulti?fsyms={}&tsyms={}&e={}\"\n",
    "URL_PRICE_MULTI_FULL = API_ENDPOINT + \"/pricemultifull?fsyms={}&tsyms={}&e={}\"\n",
    "\n",
    "URL_HIST_PRICE = API_ENDPOINT + \"/pricehistorical?fsym={}&tsyms={}&ts={}\"\n",
    "URL_HIST_PRICE_DAY = API_ENDPOINT + \"/histoday?fsym={}&tsym={}&e={}&limit={}&allData={}\"\n",
    "URL_HIST_PRICE_HOUR = API_ENDPOINT + \"/histohour?fsym={}&tsym={}&e={}&limit={}\"\n",
    "URL_HIST_PRICE_MINUTE = API_ENDPOINT + \"/histominute?fsym={}&tsym={}&e={}&toTs={}\"\n",
    "\n",
    "URL_AVG = API_ENDPOINT + \"/generateAvg?fsym={}&tsym={}&e={}\"\n",
    "URL_DAY_AVG = API_ENDPOINT + \"/dayAvg?fsym={}&tsym={}&e={}\""
   ]
  },
  {
   "cell_type": "code",
   "execution_count": 3,
   "metadata": {},
   "outputs": [],
   "source": [
    "# FIELDS\n",
    "PRICE = 'PRICE'\n",
    "HIGH = 'HIGH24HOUR'\n",
    "LOW = 'LOW24HOUR'\n",
    "VOLUME = 'VOLUME24HOUR'\n",
    "CHANGE = 'CHANGE24HOUR'\n",
    "CHANGE_PERCENT = 'CHANGEPCT24HOUR'\n",
    "MARKETCAP = 'MKTCAP'\n",
    "NPERIODS = 100\n",
    "TIMEFRAME = 'Day'"
   ]
  },
  {
   "cell_type": "code",
   "execution_count": 4,
   "metadata": {},
   "outputs": [],
   "source": [
    "# Defaults\n",
    "CURR = \"USD\"\n",
    "EXCHANGE = \"CCCAGG\"\n",
    "COIN = 'BTC'\n",
    "COIN_LIST = ['BTC', 'ETH']\n",
    "EXCHANGES = ['Kucoin','Cryptopia','HitBTC']"
   ]
  },
  {
   "cell_type": "code",
   "execution_count": 5,
   "metadata": {},
   "outputs": [],
   "source": [
    "def query_cryptocompare(url):\n",
    "    \"\"\" Query CryptoCompare API \"\"\"\n",
    "    try:\n",
    "        response = requests.get(url).json()\n",
    "    except Exception as e:\n",
    "        logging.error(\"Failure while querying {query}. \\n{err}\".format(query=url, err=e))\n",
    "        return None\n",
    "    return response"
   ]
  },
  {
   "cell_type": "code",
   "execution_count": 6,
   "metadata": {},
   "outputs": [],
   "source": [
    "# Helper functions\n",
    "def format_parameter(parameter):\n",
    "    \"\"\" Format parameters for the query \"\"\"\n",
    "    if isinstance(parameter, list):\n",
    "        return ','.join(parameter)\n",
    "    else:\n",
    "        return parameter\n",
    "    \n",
    "def convert_timestamp(timestamp):\n",
    "    return datetime.datetime.fromtimestamp(int(timestamp)).strftime('%Y-%m-%d %H:%M:%S')\n",
    "\n",
    "def get_data(response):\n",
    "    \"\"\" Separate query data from response \"\"\"\n",
    "    header = {key: (value if key != 'Data' else len(value)) for key, value in response.items()}\n",
    "    data = response['Data']\n",
    "    return header, data\n",
    "\n",
    "def get_readable_df(response):\n",
    "    \"\"\" Convert timestamp into readable datetime \"\"\"\n",
    "    header, data = get_data(response)\n",
    "    df_data = pd.DataFrame(data)\n",
    "    df_data = df_data.rename(columns={'time': 'timestamp'})\n",
    "    df_data['time'] = df_data.timestamp.apply(convert_timestamp)\n",
    "    df_data = df_data.set_index('time')\n",
    "    del df_data['timestamp']\n",
    "    return df_data"
   ]
  },
  {
   "cell_type": "code",
   "execution_count": 7,
   "metadata": {},
   "outputs": [],
   "source": [
    "def get_coin_list():\n",
    "    \"\"\" Get coin list \"\"\"\n",
    "    return query_cryptocompare(URL_COIN_LIST)['Data']"
   ]
  },
  {
   "cell_type": "code",
   "execution_count": 8,
   "metadata": {},
   "outputs": [],
   "source": [
    "coins = get_coin_list()\n",
    "COIN_DB = pd.DataFrame.from_dict(coins, orient='index')\n",
    "COIN_DB.to_csv('coin_list.csv')"
   ]
  },
  {
   "cell_type": "code",
   "execution_count": 9,
   "metadata": {},
   "outputs": [],
   "source": [
    "def get_price(coin, to_curr=CURR, exchange=EXCHANGE):\n",
    "    \"\"\" Get real time price of the coin \"\"\"\n",
    "    if isinstance(coin, list):\n",
    "        return query_cryptocompare(URL_PRICE_MULTI.format(\n",
    "                format_parameter(coin), format_parameter(to_curr), exchange\n",
    "            )\n",
    "        )\n",
    "    else:\n",
    "        return query_cryptocompare(URL_PRICE.format(coin, format_parameter(to_curr), exchange))"
   ]
  },
  {
   "cell_type": "code",
   "execution_count": 36,
   "metadata": {},
   "outputs": [
    {
     "data": {
      "text/plain": [
       "{'BTC': {'USD': 11220.64}, 'ETH': {'USD': 847.48}}"
      ]
     },
     "execution_count": 36,
     "metadata": {},
     "output_type": "execute_result"
    }
   ],
   "source": [
    "get_price(COIN_LIST)"
   ]
  },
  {
   "cell_type": "code",
   "execution_count": 11,
   "metadata": {},
   "outputs": [],
   "source": [
    "def get_historical_price_timestamp(coin, to_curr=CURR, timestamp=time.time(), exchange=EXCHANGE):\n",
    "    \"\"\" Get value of coin in currency at a particular timestamp \"\"\"\n",
    "    if isinstance(timestamp, datetime.datetime):\n",
    "        timestamp = time.mktime(timestamp.timetuple())\n",
    "    \n",
    "    return query_cryptocompare(URL_HIST_PRICE.format(\n",
    "            coin, \n",
    "            format_parameter(to_curr),\n",
    "            int(timestamp),\n",
    "            exchange\n",
    "        )\n",
    "    )"
   ]
  },
  {
   "cell_type": "code",
   "execution_count": 12,
   "metadata": {},
   "outputs": [
    {
     "data": {
      "text/plain": [
       "{'BTC': {'USD': 11427.17}}"
      ]
     },
     "execution_count": 12,
     "metadata": {},
     "output_type": "execute_result"
    }
   ],
   "source": [
    "get_historical_price_timestamp(COIN)"
   ]
  },
  {
   "cell_type": "code",
   "execution_count": 13,
   "metadata": {},
   "outputs": [],
   "source": [
    "def get_historical_price_day(coin, to_curr=CURR, timestamp=time.time(), exchange=EXCHANGE, limit=30, allData='false'):\n",
    "    \"\"\" Get price per day for the past month \"\"\"\n",
    "    return query_cryptocompare(URL_HIST_PRICE_DAY.format(\n",
    "            coin,\n",
    "            format_parameter(to_curr),\n",
    "            exchange,\n",
    "            limit,\n",
    "            allData\n",
    "        )\n",
    "    )\n",
    "\n",
    "def get_historical_price_last_day(*args):\n",
    "    \"\"\" Get price for last day \"\"\"\n",
    "    return get_historical_price_day(*args, limit=1)"
   ]
  },
  {
   "cell_type": "code",
   "execution_count": 14,
   "metadata": {},
   "outputs": [],
   "source": [
    "# coin_day = get_historical_price_day(COIN)\n",
    "# df_coin_day = get_readable_df(coin_day)\n",
    "coin_day = get_historical_price_day('ZRX','BTC',exchange='Binance',limit=1)\n",
    "if coin_day['Response'] != 'Error':\n",
    "    df_coin_day = get_readable_df(coin_day)"
   ]
  },
  {
   "cell_type": "code",
   "execution_count": 15,
   "metadata": {},
   "outputs": [],
   "source": [
    "def get_historical_price_day_full(*args):\n",
    "    \"\"\" Get price per day for all time  \"\"\"\n",
    "    return get_historical_price_day(*args, allData='true')"
   ]
  },
  {
   "cell_type": "code",
   "execution_count": 16,
   "metadata": {},
   "outputs": [],
   "source": [
    "coin_day_full = get_historical_price_day_full(COIN)\n",
    "df_coin_day_full = get_readable_df(coin_day_full)"
   ]
  },
  {
   "cell_type": "code",
   "execution_count": 17,
   "metadata": {},
   "outputs": [],
   "source": [
    "def get_historical_price_hour(coin, to_curr=CURR, exchange=EXCHANGE, limit=168):\n",
    "    \"\"\" Get price per hour for past 7 days \"\"\"\n",
    "    return query_cryptocompare(URL_HIST_PRICE_HOUR.format(\n",
    "            coin,\n",
    "            format_parameter(to_curr),\n",
    "            exchange,\n",
    "            limit\n",
    "        )\n",
    "    )\n",
    "\n",
    "def get_historical_price_last_hour(*args, **kwargs):\n",
    "    \"\"\" Get price for the last hour \"\"\"\n",
    "    return get_historical_price_hour(*args, **kwargs, limit=1)"
   ]
  },
  {
   "cell_type": "code",
   "execution_count": 18,
   "metadata": {},
   "outputs": [
    {
     "name": "stdout",
     "output_type": "stream",
     "text": [
      "169\n"
     ]
    }
   ],
   "source": [
    "coin_hour = get_historical_price_hour(COIN)\n",
    "print(len(coin_hour['Data']))"
   ]
  },
  {
   "cell_type": "code",
   "execution_count": 19,
   "metadata": {},
   "outputs": [],
   "source": [
    "df_coin_hour = get_readable_df(coin_hour)"
   ]
  },
  {
   "cell_type": "code",
   "execution_count": 20,
   "metadata": {},
   "outputs": [],
   "source": [
    "def get_historical_price_minute(coin, to_curr=CURR, exchange=EXCHANGE, toTs=time.time()):\n",
    "    \"\"\" Get price per min for past 24 hours \"\"\"\n",
    "    return query_cryptocompare(URL_HIST_PRICE_MINUTE.format(\n",
    "            coin,\n",
    "            format_parameter(to_curr),\n",
    "            exchange,\n",
    "            int(toTs)\n",
    "        )\n",
    "    )"
   ]
  },
  {
   "cell_type": "code",
   "execution_count": 21,
   "metadata": {},
   "outputs": [
    {
     "name": "stdout",
     "output_type": "stream",
     "text": [
      "1441\n"
     ]
    }
   ],
   "source": [
    "coin_min = get_historical_price_minute(COIN)\n",
    "print(len(coin_min['Data']))"
   ]
  },
  {
   "cell_type": "code",
   "execution_count": 22,
   "metadata": {},
   "outputs": [],
   "source": [
    "df_coin_min = get_readable_df(coin_min)"
   ]
  },
  {
   "cell_type": "code",
   "execution_count": 23,
   "metadata": {},
   "outputs": [],
   "source": [
    "def get_historical_price_minute_by_day(*args, days_ago=0):\n",
    "    \"\"\" Get price per min for 24 hours till days_ago \"\"\"\n",
    "    if days_ago > 7:\n",
    "        logging.error(\"Can not get information by minute for more than 7 days. Getting information for last possible day.\")\n",
    "        days_ago = 7\n",
    "    days_ago -= 1  # Subtracting one day as toTs considers ending timestamp\n",
    "    ts = datetime.datetime.today() - datetime.timedelta(days_ago)\n",
    "    ts = time.mktime(ts.timetuple())\n",
    "    return get_historical_price_minute(*args, toTs=int(ts))"
   ]
  },
  {
   "cell_type": "code",
   "execution_count": 24,
   "metadata": {},
   "outputs": [],
   "source": [
    "coin_minute_week = get_historical_price_minute_by_day(COIN, days_ago=7)\n",
    "df_coin_minute_week = get_readable_df(coin_minute_week)"
   ]
  },
  {
   "cell_type": "markdown",
   "metadata": {},
   "source": [
    "-----------------------"
   ]
  },
  {
   "cell_type": "code",
   "execution_count": 25,
   "metadata": {},
   "outputs": [],
   "source": [
    "# Data\n",
    "csv_day_full = 'coin_day_full.csv'"
   ]
  },
  {
   "cell_type": "code",
   "execution_count": 26,
   "metadata": {},
   "outputs": [],
   "source": [
    "df_coin_day_full['coin'] = 'BTC'\n",
    "df_coin_day_full.to_csv(csv_day_full)"
   ]
  },
  {
   "cell_type": "code",
   "execution_count": 27,
   "metadata": {},
   "outputs": [],
   "source": [
    "# print(COIN_DB.Symbol)"
   ]
  },
  {
   "cell_type": "code",
   "execution_count": null,
   "metadata": {},
   "outputs": [],
   "source": []
  },
  {
   "cell_type": "code",
   "execution_count": 28,
   "metadata": {},
   "outputs": [
    {
     "name": "stdout",
     "output_type": "stream",
     "text": [
      "-----Kucoin\tCFD\n",
      "'DataFrame' object has no attribute 'timestamp'\n",
      "-----Cryptopia\tACP\n",
      "'DataFrame' object has no attribute 'timestamp'\n",
      "-----Cryptopia\tAEON\n",
      "'DataFrame' object has no attribute 'timestamp'\n",
      "-----Cryptopia\tAMBER\n",
      "'DataFrame' object has no attribute 'timestamp'\n",
      "-----Cryptopia\tANC\n",
      "'DataFrame' object has no attribute 'timestamp'\n",
      "-----Cryptopia\tANTI\n",
      "'DataFrame' object has no attribute 'timestamp'\n",
      "-----Cryptopia\tBAT\n",
      "'DataFrame' object has no attribute 'timestamp'\n",
      "-----Cryptopia\tBIC\n",
      "'DataFrame' object has no attribute 'timestamp'\n",
      "-----Cryptopia\tBITZ\n",
      "'DataFrame' object has no attribute 'timestamp'\n",
      "-----Cryptopia\tBOSON\n",
      "'DataFrame' object has no attribute 'timestamp'\n",
      "-----Cryptopia\tCETI\n",
      "'DataFrame' object has no attribute 'timestamp'\n",
      "-----Cryptopia\tCIR\n",
      "'DataFrame' object has no attribute 'timestamp'\n",
      "-----Cryptopia\tCUBE\n",
      "'DataFrame' object has no attribute 'timestamp'\n",
      "-----Cryptopia\tDGDC\n",
      "'DataFrame' object has no attribute 'timestamp'\n",
      "-----Cryptopia\tDMD\n",
      "'DataFrame' object has no attribute 'timestamp'\n",
      "-----Cryptopia\tDNET\n",
      "'DataFrame' object has no attribute 'timestamp'\n",
      "-----Cryptopia\tDOGED\n",
      "'DataFrame' object has no attribute 'timestamp'\n",
      "-----Cryptopia\tESP\n",
      "'DataFrame' object has no attribute 'timestamp'\n",
      "-----Cryptopia\tFIBRE\n",
      "'DataFrame' object has no attribute 'timestamp'\n",
      "-----Cryptopia\tFLY\n",
      "'DataFrame' object has no attribute 'timestamp'\n",
      "-----Cryptopia\tGLC\n",
      "'DataFrame' object has no attribute 'timestamp'\n",
      "-----Cryptopia\tGMC\n",
      "'DataFrame' object has no attribute 'timestamp'\n",
      "-----Cryptopia\tGRC\n",
      "'DataFrame' object has no attribute 'timestamp'\n",
      "-----Cryptopia\tGRE\n",
      "'DataFrame' object has no attribute 'timestamp'\n",
      "-----Cryptopia\tHYPER\n",
      "'DataFrame' object has no attribute 'timestamp'\n",
      "-----Cryptopia\tIFC\n",
      "'DataFrame' object has no attribute 'timestamp'\n",
      "-----Cryptopia\tIW\n",
      "'DataFrame' object has no attribute 'timestamp'\n",
      "-----Cryptopia\tJBS\n",
      "'DataFrame' object has no attribute 'timestamp'\n",
      "-----Cryptopia\tLIMX\n",
      "'DataFrame' object has no attribute 'timestamp'\n",
      "-----Cryptopia\tLOOK\n",
      "'DataFrame' object has no attribute 'timestamp'\n",
      "-----Cryptopia\tMBIT\n",
      "'DataFrame' object has no attribute 'timestamp'\n",
      "-----Cryptopia\tMDC\n",
      "'DataFrame' object has no attribute 'timestamp'\n",
      "-----Cryptopia\tMIN\n",
      "'DataFrame' object has no attribute 'timestamp'\n",
      "-----Cryptopia\tMOON\n",
      "'DataFrame' object has no attribute 'timestamp'\n",
      "-----Cryptopia\tMRSA\n",
      "'DataFrame' object has no attribute 'timestamp'\n",
      "-----Cryptopia\tMRY\n",
      "'DataFrame' object has no attribute 'timestamp'\n",
      "-----Cryptopia\tNBT\n",
      "'DataFrame' object has no attribute 'timestamp'\n",
      "-----Cryptopia\tNKT\n",
      "'DataFrame' object has no attribute 'timestamp'\n",
      "-----Cryptopia\tNLG\n",
      "'DataFrame' object has no attribute 'timestamp'\n",
      "-----Cryptopia\tORO\n",
      "'DataFrame' object has no attribute 'timestamp'\n",
      "-----Cryptopia\tPSB\n",
      "'DataFrame' object has no attribute 'timestamp'\n",
      "-----Cryptopia\tSANDG\n",
      "'DataFrame' object has no attribute 'timestamp'\n",
      "-----Cryptopia\tSCN\n",
      "'DataFrame' object has no attribute 'timestamp'\n",
      "-----Cryptopia\tSDC\n",
      "'DataFrame' object has no attribute 'timestamp'\n",
      "-----Cryptopia\tSHND\n",
      "'DataFrame' object has no attribute 'timestamp'\n",
      "-----Cryptopia\tSPRTS\n",
      "'DataFrame' object has no attribute 'timestamp'\n",
      "-----Cryptopia\tTPAY\n",
      "'DataFrame' object has no attribute 'timestamp'\n",
      "-----Cryptopia\tXCI\n",
      "'DataFrame' object has no attribute 'timestamp'\n",
      "-----Cryptopia\tXDE2\n",
      "'DataFrame' object has no attribute 'timestamp'\n",
      "-----Cryptopia\tXWC\n",
      "'DataFrame' object has no attribute 'timestamp'\n",
      "-----HitBTC\tNBT\n",
      "'DataFrame' object has no attribute 'timestamp'\n",
      "-----HitBTC\tSTAR\n",
      "'DataFrame' object has no attribute 'timestamp'\n"
     ]
    }
   ],
   "source": [
    "price_data={}\n",
    "# message, data = Mapi.getHistoDay('ZRX', to_symbol = 'BTC')\n",
    "df = pd.DataFrame()\n",
    "df2 = pd.DataFrame()\n",
    "df3 = pd.DataFrame()\n",
    "# print(data[0]['volumefrom'])\n",
    "i=0\n",
    "j=0\n",
    "coins_set_day = set()\n",
    "coins_set_min = set()\n",
    "coins_set_hour = set()\n",
    "got_all = False\n",
    "\n",
    "for exchange in EXCHANGES :    # For all exchanges\n",
    "    #if got_all == True:\n",
    "    #   break\n",
    "    for symbol in COIN_DB.Symbol:         #For every coin we get in linr number 16 in this code\n",
    "        # if len(coins_set) == 2:\n",
    "        #     break\n",
    "        if symbol not in coins_set_day :\n",
    "            data = get_historical_price_day_full(symbol, 'BTC', time.time(),exchange)  \n",
    "            # Get it's minute/hour/daily/weekly data\n",
    "            if bool(data) == True and data['Response'] != 'Error' : \n",
    "                try:\n",
    "                    df_coin_day_all = get_readable_df(data)                    \n",
    "                    df_coin_day_all['coin']=symbol\n",
    "                    df_coin_day_all['exchange']=exchange \n",
    "                    df = df.append(df_coin_day_all)\n",
    "                    coins_set_day.add(symbol)\n",
    "                except Exception as e:\n",
    "                    print('-'*5 + exchange + '\\t' + symbol)\n",
    "                    print(e) \n",
    "                #print(df_coin_day_all)\n",
    "        #if len(coins_set_day) == 5:\n",
    "        #    got_all = True\n",
    "        #   break\n",
    "                       \n",
    "# print(df)\n",
    "csv_all_coins_day_full = 'all_coins_day_full.csv'\n",
    "df.to_csv(csv_all_coins_day_full, mode='a', header=False)"
   ]
  },
  {
   "cell_type": "code",
   "execution_count": 35,
   "metadata": {},
   "outputs": [
    {
     "data": {
      "text/plain": [
       "{'Aggregated': False,\n",
       " 'Data': [],\n",
       " 'FirstValueInArray': True,\n",
       " 'Response': 'Success',\n",
       " 'Type': 100}"
      ]
     },
     "execution_count": 35,
     "metadata": {},
     "output_type": "execute_result"
    }
   ],
   "source": [
    "get_historical_price_day_full('STAR', 'BTC', time.time(), 'HitBTC')  "
   ]
  },
  {
   "cell_type": "code",
   "execution_count": 29,
   "metadata": {},
   "outputs": [],
   "source": [
    "# Maps csv (future data objects) to period granularity\n",
    "# If we store all data together in a single data source, we'll change this to a function which returns corresponding rows\n",
    "data_csv_period_mapping = {\n",
    "    \"day\": 'all_coins_day_full.csv',\n",
    "    \"hour\": 'all_coins_hour_full.csv',\n",
    "    \"min\": 'all_coins_min_full.csv'\n",
    "}"
   ]
  },
  {
   "cell_type": "code",
   "execution_count": 30,
   "metadata": {},
   "outputs": [],
   "source": [
    "def fetch_data(coin_symbol=['BTC'], nrows=1, period='day'):\n",
    "    \"\"\" Fetch data from csv for mentioned coin \n",
    "        This function fetches last nrows from csv corr to given period\n",
    "    \"\"\"\n",
    "    period = period.lower()\n",
    "    csv_filename = data_csv_period_mapping[period]\n",
    "    df_csv = pd.read_csv(csv_filename, index_col=None)\n",
    "    # print(coin_symbol)\n",
    "    return_df = []\n",
    "    for coin in coin_symbol:\n",
    "        # Get rows where 'coin' is one of the coin_symbols; then extract last nrows\n",
    "        req_data = df_csv[df_csv['coin'] == coin].iloc[-nrows:]\n",
    "        if req_data.empty:\n",
    "            continue\n",
    "        req_columns = ['coin', 'time', 'open', 'high', 'low', 'close', 'volumeto']\n",
    "        req_data = req_data[req_columns]\n",
    "        return_df.append(req_data)\n",
    "    return return_df\n",
    "    # return pd.concat(return_df)"
   ]
  },
  {
   "cell_type": "code",
   "execution_count": 31,
   "metadata": {},
   "outputs": [
    {
     "name": "stderr",
     "output_type": "stream",
     "text": [
      "C:\\Anaconda3\\lib\\site-packages\\IPython\\core\\interactiveshell.py:2850: DtypeWarning: Columns (1) have mixed types. Specify dtype option on import or set low_memory=False.\n",
      "  if self.run_code(code, result):\n"
     ]
    }
   ],
   "source": [
    "NPERIODS = 20\n",
    "# print(list(COIN_DB.Symbol))\n",
    "data = fetch_data(list(COIN_DB.Symbol), NPERIODS, TIMEFRAME)\n",
    "# print(data)\n",
    "# btc_data, eth_data = data"
   ]
  },
  {
   "cell_type": "code",
   "execution_count": 32,
   "metadata": {},
   "outputs": [
    {
     "name": "stdout",
     "output_type": "stream",
     "text": [
      "   coin                 time      open      high       low     close volumeto\n",
      "1   1ST  2018-02-10 16:00:00  0.000058  0.000059  0.000051  0.000057    47.65\n",
      "2   1ST  2018-02-11 16:00:00  0.000057  0.000067  0.000055  0.000058   129.08\n",
      "3   1ST  2018-02-12 16:00:00  0.000058  0.000060  0.000055  0.000058     25.4\n",
      "4   1ST  2018-02-13 16:00:00  0.000058  0.000059  0.000055  0.000056    30.43\n",
      "5   1ST  2018-02-14 16:00:00  0.000056  0.000056  0.000050  0.000052    20.85\n",
      "6   1ST  2018-02-15 16:00:00  0.000052  0.000055  0.000050  0.000053    21.16\n",
      "7   1ST  2018-02-16 16:00:00  0.000053  0.000058  0.000051  0.000052    41.02\n",
      "8   1ST  2018-02-17 16:00:00  0.000052  0.000053  0.000047  0.000048    21.18\n",
      "9   1ST  2018-02-18 16:00:00  0.000048  0.000054  0.000047  0.000047    31.66\n",
      "10  1ST  2018-02-19 16:00:00  0.000047  0.000049  0.000035  0.000041     28.4\n",
      "11  1ST  2018-02-20 16:00:00  0.000041  0.000044  0.000040  0.000040    19.43\n",
      "12  1ST  2018-02-21 16:00:00  0.000040  0.000042  0.000037  0.000040    12.69\n",
      "13  1ST  2018-02-22 16:00:00  0.000040  0.000044  0.000025  0.000030    90.42\n",
      "14  1ST  2018-02-23 16:00:00  0.000030  0.000037  0.000026  0.000032   180.71\n",
      "15  1ST  2018-02-24 16:00:00  0.000032  0.000033  0.000029  0.000030    41.63\n",
      "16  1ST  2018-02-25 16:00:00  0.000030  0.000031  0.000027  0.000027    50.17\n",
      "17  1ST  2018-02-26 16:00:00  0.000027  0.000031  0.000027  0.000030    49.15\n",
      "18  1ST  2018-02-27 16:00:00  0.000030  0.000040  0.000027  0.000029   210.04\n",
      "19  1ST  2018-02-28 16:00:00  0.000029  0.000032  0.000026  0.000029    85.74\n",
      "20  1ST  2018-03-01 16:00:00  0.000029  0.000032  0.000022  0.000029    59.84\n"
     ]
    }
   ],
   "source": [
    "# print(type(btc_data))\n",
    "print(data[0])\n",
    "# btc_data.shape"
   ]
  },
  {
   "cell_type": "code",
   "execution_count": 39,
   "metadata": {},
   "outputs": [
    {
     "data": {
      "text/plain": [
       "[   coin                 time      open      high       low     close volumeto\n",
       " 1   1ST  2018-02-10 16:00:00  0.000058  0.000059  0.000051  0.000057    47.65\n",
       " 2   1ST  2018-02-11 16:00:00  0.000057  0.000067  0.000055  0.000058   129.08\n",
       " 3   1ST  2018-02-12 16:00:00  0.000058  0.000060  0.000055  0.000058     25.4\n",
       " 4   1ST  2018-02-13 16:00:00  0.000058  0.000059  0.000055  0.000056    30.43\n",
       " 5   1ST  2018-02-14 16:00:00  0.000056  0.000056  0.000050  0.000052    20.85\n",
       " 6   1ST  2018-02-15 16:00:00  0.000052  0.000055  0.000050  0.000053    21.16\n",
       " 7   1ST  2018-02-16 16:00:00  0.000053  0.000058  0.000051  0.000052    41.02\n",
       " 8   1ST  2018-02-17 16:00:00  0.000052  0.000053  0.000047  0.000048    21.18\n",
       " 9   1ST  2018-02-18 16:00:00  0.000048  0.000054  0.000047  0.000047    31.66\n",
       " 10  1ST  2018-02-19 16:00:00  0.000047  0.000049  0.000035  0.000041     28.4\n",
       " 11  1ST  2018-02-20 16:00:00  0.000041  0.000044  0.000040  0.000040    19.43\n",
       " 12  1ST  2018-02-21 16:00:00  0.000040  0.000042  0.000037  0.000040    12.69\n",
       " 13  1ST  2018-02-22 16:00:00  0.000040  0.000044  0.000025  0.000030    90.42\n",
       " 14  1ST  2018-02-23 16:00:00  0.000030  0.000037  0.000026  0.000032   180.71\n",
       " 15  1ST  2018-02-24 16:00:00  0.000032  0.000033  0.000029  0.000030    41.63\n",
       " 16  1ST  2018-02-25 16:00:00  0.000030  0.000031  0.000027  0.000027    50.17\n",
       " 17  1ST  2018-02-26 16:00:00  0.000027  0.000031  0.000027  0.000030    49.15\n",
       " 18  1ST  2018-02-27 16:00:00  0.000030  0.000040  0.000027  0.000029   210.04\n",
       " 19  1ST  2018-02-28 16:00:00  0.000029  0.000032  0.000026  0.000029    85.74\n",
       " 20  1ST  2018-03-01 16:00:00  0.000029  0.000032  0.000022  0.000029    59.84,\n",
       "     coin                 time          open          high           low  \\\n",
       " 22  2015  2018-02-10 16:00:00  2.100000e-07  2.100000e-07  2.100000e-07   \n",
       " 23  2015  2018-02-11 16:00:00  2.100000e-07  2.100000e-07  2.100000e-07   \n",
       " 24  2015  2018-02-12 16:00:00  2.100000e-07  2.100000e-07  2.100000e-07   \n",
       " 25  2015  2018-02-13 16:00:00  2.100000e-07  2.100000e-07  2.100000e-07   \n",
       " 26  2015  2018-02-14 16:00:00  2.100000e-07  2.100000e-07  2.100000e-07   \n",
       " 27  2015  2018-02-15 16:00:00  2.100000e-07  2.100000e-07  2.100000e-07   \n",
       " 28  2015  2018-02-16 16:00:00  2.100000e-07  2.100000e-07  2.100000e-07   \n",
       " 29  2015  2018-02-17 16:00:00  2.100000e-07  2.100000e-07  2.100000e-07   \n",
       " 30  2015  2018-02-18 16:00:00  2.100000e-07  2.100000e-07  2.100000e-07   \n",
       " 31  2015  2018-02-19 16:00:00  2.100000e-07  2.100000e-07  2.100000e-07   \n",
       " 32  2015  2018-02-20 16:00:00  2.100000e-07  2.100000e-07  2.100000e-07   \n",
       " 33  2015  2018-02-21 16:00:00  2.100000e-07  2.100000e-07  2.100000e-07   \n",
       " 34  2015  2018-02-22 16:00:00  2.100000e-07  2.100000e-07  2.100000e-07   \n",
       " 35  2015  2018-02-23 16:00:00  2.100000e-07  2.100000e-07  2.100000e-07   \n",
       " 36  2015  2018-02-24 16:00:00  2.100000e-07  2.100000e-07  2.100000e-07   \n",
       " 37  2015  2018-02-25 16:00:00  2.100000e-07  2.100000e-07  2.100000e-07   \n",
       " 38  2015  2018-02-26 16:00:00  2.100000e-07  2.100000e-07  2.100000e-07   \n",
       " 39  2015  2018-02-27 16:00:00  2.100000e-07  2.100000e-07  2.100000e-07   \n",
       " 40  2015  2018-02-28 16:00:00  2.100000e-07  2.100000e-07  2.100000e-07   \n",
       " 41  2015  2018-03-01 16:00:00  2.100000e-07  2.100000e-07  2.100000e-07   \n",
       " \n",
       "            close volumeto  \n",
       " 22  2.100000e-07      0.0  \n",
       " 23  2.100000e-07      0.0  \n",
       " 24  2.100000e-07      0.0  \n",
       " 25  2.100000e-07      0.0  \n",
       " 26  2.100000e-07      0.0  \n",
       " 27  2.100000e-07      0.0  \n",
       " 28  2.100000e-07      0.0  \n",
       " 29  2.100000e-07      0.0  \n",
       " 30  2.100000e-07      0.0  \n",
       " 31  2.100000e-07      0.0  \n",
       " 32  2.100000e-07      0.0  \n",
       " 33  2.100000e-07      0.0  \n",
       " 34  2.100000e-07      0.0  \n",
       " 35  2.100000e-07      0.0  \n",
       " 36  2.100000e-07      0.0  \n",
       " 37  2.100000e-07      0.0  \n",
       " 38  2.100000e-07      0.0  \n",
       " 39  2.100000e-07      0.0  \n",
       " 40  2.100000e-07      0.0  \n",
       " 41  2.100000e-07      0.0  ,\n",
       "      coin                 time      open      high       low     close  \\\n",
       " 43  2GIVE  2018-02-10 16:00:00  0.000001  0.000001  0.000001  0.000001   \n",
       " 44  2GIVE  2018-02-11 16:00:00  0.000001  0.000001  0.000001  0.000001   \n",
       " 45  2GIVE  2018-02-12 16:00:00  0.000001  0.000001  0.000001  0.000001   \n",
       " 46  2GIVE  2018-02-13 16:00:00  0.000001  0.000001  0.000001  0.000001   \n",
       " 47  2GIVE  2018-02-14 16:00:00  0.000001  0.000001  0.000001  0.000001   \n",
       " 48  2GIVE  2018-02-15 16:00:00  0.000001  0.000001  0.000001  0.000001   \n",
       " 49  2GIVE  2018-02-16 16:00:00  0.000001  0.000001  0.000001  0.000001   \n",
       " 50  2GIVE  2018-02-17 16:00:00  0.000001  0.000001  0.000001  0.000001   \n",
       " 51  2GIVE  2018-02-18 16:00:00  0.000001  0.000001  0.000001  0.000001   \n",
       " 52  2GIVE  2018-02-19 16:00:00  0.000001  0.000001  0.000001  0.000001   \n",
       " 53  2GIVE  2018-02-20 16:00:00  0.000001  0.000001  0.000001  0.000001   \n",
       " 54  2GIVE  2018-02-21 16:00:00  0.000001  0.000001  0.000001  0.000001   \n",
       " 55  2GIVE  2018-02-22 16:00:00  0.000001  0.000001  0.000001  0.000001   \n",
       " 56  2GIVE  2018-02-23 16:00:00  0.000001  0.000001  0.000001  0.000001   \n",
       " 57  2GIVE  2018-02-24 16:00:00  0.000001  0.000001  0.000001  0.000001   \n",
       " 58  2GIVE  2018-02-25 16:00:00  0.000001  0.000001  0.000001  0.000001   \n",
       " 59  2GIVE  2018-02-26 16:00:00  0.000001  0.000001  0.000001  0.000001   \n",
       " 60  2GIVE  2018-02-27 16:00:00  0.000001  0.000001  0.000001  0.000001   \n",
       " 61  2GIVE  2018-02-28 16:00:00  0.000001  0.000001  0.000001  0.000001   \n",
       " 62  2GIVE  2018-03-01 16:00:00  0.000001  0.000001  0.000001  0.000001   \n",
       " \n",
       "    volumeto  \n",
       " 43      2.1  \n",
       " 44     1.34  \n",
       " 45     1.12  \n",
       " 46     2.42  \n",
       " 47     8.96  \n",
       " 48     1.42  \n",
       " 49     1.61  \n",
       " 50   0.8035  \n",
       " 51     1.39  \n",
       " 52     7.73  \n",
       " 53     1.84  \n",
       " 54     1.35  \n",
       " 55     1.57  \n",
       " 56     2.05  \n",
       " 57     1.65  \n",
       " 58     2.93  \n",
       " 59     1.77  \n",
       " 60     2.08  \n",
       " 61     1.34  \n",
       " 62   0.9312  ,\n",
       "     coin                 time      open      high       low     close volumeto\n",
       " 64  8BIT  2018-02-10 16:00:00  0.000051  0.000051  0.000051  0.000051      0.0\n",
       " 65  8BIT  2018-02-11 16:00:00  0.000051  0.000051  0.000051  0.000051      0.0\n",
       " 66  8BIT  2018-02-12 16:00:00  0.000051  0.000051  0.000051  0.000051      0.0\n",
       " 67  8BIT  2018-02-13 16:00:00  0.000051  0.000051  0.000051  0.000051      0.0\n",
       " 68  8BIT  2018-02-14 16:00:00  0.000051  0.000051  0.000051  0.000051      0.0\n",
       " 69  8BIT  2018-02-15 16:00:00  0.000051  0.000051  0.000051  0.000051      0.0\n",
       " 70  8BIT  2018-02-16 16:00:00  0.000051  0.000051  0.000051  0.000051      0.0\n",
       " 71  8BIT  2018-02-17 16:00:00  0.000051  0.000051  0.000051  0.000051      0.0\n",
       " 72  8BIT  2018-02-18 16:00:00  0.000051  0.000051  0.000051  0.000051      0.0\n",
       " 73  8BIT  2018-02-19 16:00:00  0.000051  0.000051  0.000051  0.000051      0.0\n",
       " 74  8BIT  2018-02-20 16:00:00  0.000051  0.000051  0.000051  0.000051      0.0\n",
       " 75  8BIT  2018-02-21 16:00:00  0.000051  0.000051  0.000051  0.000051      0.0\n",
       " 76  8BIT  2018-02-22 16:00:00  0.000051  0.000051  0.000051  0.000051      0.0\n",
       " 77  8BIT  2018-02-23 16:00:00  0.000051  0.000051  0.000051  0.000051      0.0\n",
       " 78  8BIT  2018-02-24 16:00:00  0.000051  0.000051  0.000051  0.000051      0.0\n",
       " 79  8BIT  2018-02-25 16:00:00  0.000051  0.000051  0.000051  0.000051      0.0\n",
       " 80  8BIT  2018-02-26 16:00:00  0.000051  0.000051  0.000051  0.000051      0.0\n",
       " 81  8BIT  2018-02-27 16:00:00  0.000051  0.000051  0.000051  0.000051      0.0\n",
       " 82  8BIT  2018-02-28 16:00:00  0.000051  0.000051  0.000051  0.000051      0.0\n",
       " 83  8BIT  2018-03-01 16:00:00  0.000051  0.000051  0.000051  0.000051      0.0,\n",
       "     coin                 time      open      high       low     close volumeto\n",
       " 85   ABY  2018-02-10 16:00:00  0.000002  0.000002  0.000002  0.000002     11.9\n",
       " 86   ABY  2018-02-11 16:00:00  0.000002  0.000002  0.000002  0.000002     4.48\n",
       " 87   ABY  2018-02-12 16:00:00  0.000002  0.000002  0.000001  0.000001     3.45\n",
       " 88   ABY  2018-02-13 16:00:00  0.000001  0.000002  0.000001  0.000001     4.19\n",
       " 89   ABY  2018-02-14 16:00:00  0.000001  0.000002  0.000001  0.000001     8.05\n",
       " 90   ABY  2018-02-15 16:00:00  0.000001  0.000001  0.000001  0.000001     3.74\n",
       " 91   ABY  2018-02-16 16:00:00  0.000001  0.000001  0.000001  0.000001     5.41\n",
       " 92   ABY  2018-02-17 16:00:00  0.000001  0.000001  0.000001  0.000001      4.1\n",
       " 93   ABY  2018-02-18 16:00:00  0.000001  0.000001  0.000001  0.000001      3.9\n",
       " 94   ABY  2018-02-19 16:00:00  0.000001  0.000001  0.000001  0.000001     5.41\n",
       " 95   ABY  2018-02-20 16:00:00  0.000001  0.000001  0.000001  0.000001      2.4\n",
       " 96   ABY  2018-02-21 16:00:00  0.000001  0.000001  0.000001  0.000001     2.01\n",
       " 97   ABY  2018-02-22 16:00:00  0.000001  0.000001  0.000001  0.000001     3.81\n",
       " 98   ABY  2018-02-23 16:00:00  0.000001  0.000001  0.000001  0.000001     3.45\n",
       " 99   ABY  2018-02-24 16:00:00  0.000001  0.000001  0.000001  0.000001     1.83\n",
       " 100  ABY  2018-02-25 16:00:00  0.000001  0.000001  0.000001  0.000001     2.76\n",
       " 101  ABY  2018-02-26 16:00:00  0.000001  0.000001  0.000001  0.000001      3.3\n",
       " 102  ABY  2018-02-27 16:00:00  0.000001  0.000001  0.000001  0.000001     3.77\n",
       " 103  ABY  2018-02-28 16:00:00  0.000001  0.000001  0.000001  0.000001     5.87\n",
       " 104  ABY  2018-03-01 16:00:00  0.000001  0.000001  0.000001  0.000001     2.82]"
      ]
     },
     "execution_count": 39,
     "metadata": {},
     "output_type": "execute_result"
    }
   ],
   "source": [
    "data"
   ]
  },
  {
   "cell_type": "code",
   "execution_count": 33,
   "metadata": {},
   "outputs": [
    {
     "ename": "AssertionError",
     "evalue": "volume is not double",
     "output_type": "error",
     "traceback": [
      "\u001b[1;31m---------------------------------------------------------------------------\u001b[0m",
      "\u001b[1;31mAssertionError\u001b[0m                            Traceback (most recent call last)",
      "\u001b[1;32m<ipython-input-33-01cdfe5eb443>\u001b[0m in \u001b[0;36m<module>\u001b[1;34m()\u001b[0m\n\u001b[0;32m      6\u001b[0m \u001b[0minp_sma_two\u001b[0m \u001b[1;33m=\u001b[0m \u001b[0mSMA\u001b[0m\u001b[1;33m(\u001b[0m\u001b[0minp_data_two\u001b[0m\u001b[1;33m,\u001b[0m\u001b[0mtimeperiod\u001b[0m\u001b[1;33m=\u001b[0m\u001b[1;36m5\u001b[0m\u001b[1;33m)\u001b[0m\u001b[1;33m\u001b[0m\u001b[0m\n\u001b[0;32m      7\u001b[0m \u001b[0minp_rsi\u001b[0m \u001b[1;33m=\u001b[0m \u001b[0mtalib\u001b[0m\u001b[1;33m.\u001b[0m\u001b[0mRSI\u001b[0m\u001b[1;33m(\u001b[0m\u001b[0minp_data\u001b[0m\u001b[1;33m.\u001b[0m\u001b[0mclose\u001b[0m\u001b[1;33m.\u001b[0m\u001b[0mvalues\u001b[0m\u001b[1;33m,\u001b[0m \u001b[0mtimeperiod\u001b[0m\u001b[1;33m=\u001b[0m\u001b[1;36m14\u001b[0m\u001b[1;33m)\u001b[0m\u001b[1;33m\u001b[0m\u001b[0m\n\u001b[1;32m----> 8\u001b[1;33m \u001b[0minp_mfi\u001b[0m \u001b[1;33m=\u001b[0m \u001b[0mtalib\u001b[0m\u001b[1;33m.\u001b[0m\u001b[0mMFI\u001b[0m\u001b[1;33m(\u001b[0m\u001b[0minp_data\u001b[0m\u001b[1;33m.\u001b[0m\u001b[0mhigh\u001b[0m\u001b[1;33m.\u001b[0m\u001b[0mvalues\u001b[0m\u001b[1;33m,\u001b[0m \u001b[0minp_data\u001b[0m\u001b[1;33m.\u001b[0m\u001b[0mlow\u001b[0m\u001b[1;33m.\u001b[0m\u001b[0mvalues\u001b[0m\u001b[1;33m,\u001b[0m \u001b[0minp_data\u001b[0m\u001b[1;33m.\u001b[0m\u001b[0mclose\u001b[0m\u001b[1;33m.\u001b[0m\u001b[0mvalues\u001b[0m\u001b[1;33m,\u001b[0m \u001b[0minp_data\u001b[0m\u001b[1;33m.\u001b[0m\u001b[0mvolumeto\u001b[0m\u001b[1;33m.\u001b[0m\u001b[0mvalues\u001b[0m\u001b[1;33m,\u001b[0m \u001b[0mtimeperiod\u001b[0m\u001b[1;33m=\u001b[0m\u001b[1;36m14\u001b[0m\u001b[1;33m)\u001b[0m\u001b[1;33m\u001b[0m\u001b[0m\n\u001b[0m\u001b[0;32m      9\u001b[0m \u001b[0minp_bbands\u001b[0m \u001b[1;33m=\u001b[0m \u001b[0mtalib\u001b[0m\u001b[1;33m.\u001b[0m\u001b[0mBBANDS\u001b[0m\u001b[1;33m(\u001b[0m\u001b[0minp_data\u001b[0m\u001b[1;33m.\u001b[0m\u001b[0mclose\u001b[0m\u001b[1;33m.\u001b[0m\u001b[0mvalues\u001b[0m\u001b[1;33m,\u001b[0m \u001b[0mtimeperiod\u001b[0m\u001b[1;33m=\u001b[0m\u001b[1;36m20\u001b[0m\u001b[1;33m,\u001b[0m \u001b[0mnbdevup\u001b[0m\u001b[1;33m=\u001b[0m\u001b[1;36m2\u001b[0m\u001b[1;33m,\u001b[0m \u001b[0mnbdevdn\u001b[0m\u001b[1;33m=\u001b[0m\u001b[1;36m2\u001b[0m\u001b[1;33m,\u001b[0m \u001b[0mmatype\u001b[0m\u001b[1;33m=\u001b[0m\u001b[1;36m0\u001b[0m\u001b[1;33m)\u001b[0m\u001b[1;33m\u001b[0m\u001b[0m\n",
      "\u001b[1;32mtalib/func.pyx\u001b[0m in \u001b[0;36mtalib.func.MFI (talib\\func.c:73827)\u001b[1;34m()\u001b[0m\n",
      "\u001b[1;31mAssertionError\u001b[0m: volume is not double"
     ]
    }
   ],
   "source": [
    "from talib import abstract\n",
    "from talib.abstract import *\n",
    "inp_data = data[0]\n",
    "inp_data_two = data[1]\n",
    "inp_sma = SMA(inp_data, timeperiod=3)\n",
    "inp_sma_two = SMA(inp_data_two,timeperiod=5)\n",
    "inp_rsi = talib.RSI(inp_data.close.values, timeperiod=14)\n",
    "inp_mfi = talib.MFI(inp_data.high.values, inp_data.low.values, inp_data.close.values, inp_data.volumeto.values, timeperiod=14)\n",
    "inp_bbands = talib.BBANDS(inp_data.close.values, timeperiod=20, nbdevup=2, nbdevdn=2, matype=0)"
   ]
  },
  {
   "cell_type": "code",
   "execution_count": null,
   "metadata": {},
   "outputs": [],
   "source": [
    "inp_data['SMA'] = inp_sma\n",
    "inp_data_two['SMA']=inp_sma_two"
   ]
  },
  {
   "cell_type": "code",
   "execution_count": null,
   "metadata": {},
   "outputs": [],
   "source": [
    "def update_indicator(csv_filename, indicator_data, indicator):\n",
    "    \"\"\" Update the given csv_file with new column values for corr rows \"\"\"\n",
    "    df_csv = pd.read_csv(csv_filename, index_col=None)\n",
    "    if indicator not in df_csv.columns:\n",
    "        df_csv[indicator] = np.nan\n",
    "    df_csv = df_csv.set_index(['coin', 'time'])\n",
    "    indicator_data = indicator_data.set_index(['coin', 'time'])\n",
    "    df_csv.update(indicator_data)\n",
    "    df_csv.to_csv(csv_filename)"
   ]
  },
  {
   "cell_type": "code",
   "execution_count": null,
   "metadata": {
    "scrolled": true
   },
   "outputs": [],
   "source": [
    "update_indicator('all_coins_day_full.csv', inp_data, 'SMA')\n",
    "update_indicator('all_coins_day_full.csv', inp_data_two,'SMA')"
   ]
  },
  {
   "cell_type": "code",
   "execution_count": null,
   "metadata": {},
   "outputs": [],
   "source": [
    "def fetch_last_day(coin):\n",
    "    \"\"\" Get data for last day \"\"\"\n",
    "    coin_last_day = get_historical_price_last_day(COIN)\n",
    "    df_coin_last_day = get_readable_df(coin_last_day)\n",
    "    df_coin_last_day['coin'] = coin\n",
    "    last_entry = df_coin_last_day.iloc[-1:]\n",
    "    return last_entry"
   ]
  },
  {
   "cell_type": "code",
   "execution_count": null,
   "metadata": {},
   "outputs": [],
   "source": [
    "def update_last_day(coin):\n",
    "    \"\"\" Update csv for last day \"\"\"\n",
    "    record_last_day = fetch_last_day(COIN)\n",
    "    csv_day = 'coin_day_full.csv'\n",
    "    df_day = pd.read_csv(csv_day)\n",
    "    record = df_day[df_day['timestamp'] == record_last_day.iloc[0]['timestamp']]\n",
    "    if record.empty:\n",
    "        record_last_day.to_csv(csv_day, mode='a', header=False)"
   ]
  },
  {
   "cell_type": "code",
   "execution_count": null,
   "metadata": {},
   "outputs": [],
   "source": [
    "from functools import partial\n",
    "update_last_day_partial = partial(update_last_day, COIN)"
   ]
  },
  {
   "cell_type": "code",
   "execution_count": null,
   "metadata": {},
   "outputs": [],
   "source": [
    "from apscheduler.schedulers.background import BackgroundScheduler\n",
    "scheduler = BackgroundScheduler({'apscheduler.timezone': 'UTC'})\n",
    "# Update data every day at 5:30pm\n",
    "scheduler.add_job(update_last_day_partial, 'cron', day_of_week='*', hour=17, minute=30)\n",
    "scheduler.start()"
   ]
  }
 ],
 "metadata": {
  "anaconda-cloud": {},
  "kernelspec": {
   "display_name": "Python [default]",
   "language": "python",
   "name": "python3"
  },
  "language_info": {
   "codemirror_mode": {
    "name": "ipython",
    "version": 3
   },
   "file_extension": ".py",
   "mimetype": "text/x-python",
   "name": "python",
   "nbconvert_exporter": "python",
   "pygments_lexer": "ipython3",
   "version": "3.5.5"
  }
 },
 "nbformat": 4,
 "nbformat_minor": 2
}
