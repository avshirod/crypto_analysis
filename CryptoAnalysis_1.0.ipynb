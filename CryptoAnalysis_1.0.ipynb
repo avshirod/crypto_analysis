{
 "cells": [
  {
   "cell_type": "code",
   "execution_count": 1,
   "metadata": {},
   "outputs": [],
   "source": [
    "# Created on:   03/03/2018  Aditya Shirode\n",
    "# Modified on:  03/03/2018  Aditya Shirode"
   ]
  },
  {
   "cell_type": "markdown",
   "metadata": {},
   "source": [
    "TO DO:\n",
    "- Make generic functions for tasks for modularity\n",
    "- CRON jobs for all timeframes\n",
    "- One function to update all csvs\n",
    "- Plug n play for indicators\n",
    "- Add limit to queries"
   ]
  },
  {
   "cell_type": "code",
   "execution_count": 2,
   "metadata": {},
   "outputs": [],
   "source": [
    "# Imports\n",
    "import os\n",
    "import time\n",
    "import logging\n",
    "import requests\n",
    "import datetime\n",
    "import talib\n",
    "import numpy as np\n",
    "import pandas as pd\n",
    "from collections import defaultdict"
   ]
  },
  {
   "cell_type": "code",
   "execution_count": 30,
   "metadata": {},
   "outputs": [],
   "source": [
    "cryptocompare_wrapper = os.path.join(os.curdir, 'cryptocompare_wrapper.py')\n",
    "import cryptocompare_wrapper as ccw"
   ]
  },
  {
   "cell_type": "code",
   "execution_count": 4,
   "metadata": {},
   "outputs": [],
   "source": [
    "# FIELDS\n",
    "PRICE = 'PRICE'\n",
    "HIGH = 'HIGH24HOUR'\n",
    "LOW = 'LOW24HOUR'\n",
    "VOLUME = 'VOLUME24HOUR'\n",
    "CHANGE = 'CHANGE24HOUR'\n",
    "CHANGE_PERCENT = 'CHANGEPCT24HOUR'\n",
    "MARKETCAP = 'MKTCAP'\n",
    "NPERIODS = 100\n",
    "TIMEFRAME = 'Day'"
   ]
  },
  {
   "cell_type": "code",
   "execution_count": 5,
   "metadata": {},
   "outputs": [],
   "source": [
    "# Defaults\n",
    "CURR = 'USD'\n",
    "EXCHANGE = 'CCCAGG'\n",
    "COIN = 'BTC'\n",
    "COIN_LIST = ['BTC', 'ETH']\n",
    "EXCHANGES = ['Kucoin', 'Cryptopia', 'HitBTC']"
   ]
  },
  {
   "cell_type": "code",
   "execution_count": 6,
   "metadata": {},
   "outputs": [],
   "source": [
    "# Coin DB\n",
    "coins = ccw.get_coin_list()\n",
    "COIN_DB = pd.DataFrame.from_dict(coins, orient='index')\n",
    "# COIN_DB.to_csv('coin_list.csv')"
   ]
  },
  {
   "cell_type": "code",
   "execution_count": 7,
   "metadata": {},
   "outputs": [],
   "source": [
    "# Exchange DB\n",
    "exchanges = ccw.get_exchanges_list()\n",
    "EXCHANGE_DB = pd.DataFrame.from_dict(exchanges, orient='index')\n",
    "# EXCHANGE_DB.to_csv('exchanges_list.csv')"
   ]
  },
  {
   "cell_type": "code",
   "execution_count": 188,
   "metadata": {
    "scrolled": false
   },
   "outputs": [
    {
     "name": "stderr",
     "output_type": "stream",
     "text": [
      "ERROR:root:Did not update the following. Try again.\n",
      " defaultdict(<class 'list'>, {})\n"
     ]
    }
   ],
   "source": [
    "# Update historical data (per day) for all coins\n",
    "\n",
    "csv_all_coins_day_full = 'all_coins_day_full.csv'\n",
    "not_updated = defaultdict(list)\n",
    "existing_coin_exchange = []\n",
    "to_curr = 'BTC'\n",
    "\n",
    "# If the csv already exists, find out which coins and exchanges have already been added\n",
    "if os.path.isfile(csv_all_coins_day_full):\n",
    "    df_csv_all_coins_day_full = pd.read_csv(csv_all_coins_day_full)\n",
    "    # existing_coin_exchange is a list of tuples (coin, exchange)\n",
    "    existing_coin_exchange = pd.MultiIndex.from_product((df_csv_all_coins_day_full['coin'].unique(),\n",
    "                                                         df_csv_all_coins_day_full['exchange'].unique())).get_values()\n",
    "\n",
    "\n",
    "for exchange in EXCHANGES :\n",
    "    # for symbol in COIN_DB.Symbol:\n",
    "    for symbol in COIN_LIST:\n",
    "    # for symbol in EXCHANGE_DB.loc[exchange].dropna().index:\n",
    "        # If the tuple does not exist in the csv\n",
    "        if (symbol, exchange) not in existing_coin_exchange:\n",
    "            try:\n",
    "                # Can't fetch the same symbol in same symbol rate\n",
    "                if symbol is not to_curr:\n",
    "                    df_coin_day_all = ccw.get_historical_price_day_full(\n",
    "                        coin=symbol,\n",
    "                        to_curr=to_curr,\n",
    "                        timestamp=time.time(),\n",
    "                        exchange=exchange\n",
    "                    )\n",
    "                    if df_coin_day_all.empty:\n",
    "                        not_updated[exchange].append(symbol)\n",
    "                    else:\n",
    "                        df_coin_day_all['exchange'] = exchange\n",
    "                        df_coin_day_all['coin'] = symbol\n",
    "\n",
    "                        # If csv does not exist, write, else append\n",
    "                        if not os.path.isfile(csv_all_coins_day_full):\n",
    "                            df_coin_day_all.to_csv(csv_all_coins_day_full, mode='w')\n",
    "                        else:\n",
    "                            df_coin_day_all.to_csv(csv_all_coins_day_full, mode='a', header=False)\n",
    "            except Exception as e:\n",
    "                logging.error(e)\n",
    "                # logging.debug(\"Could not update data for {curr} from {exchange}\".format(curr=symbol, exchange=exchange))\n",
    "                not_updated[exchange].append(symbol)\n",
    "\n",
    "logging.error(\"Did not update the following. Try again.\\n {not_updated}\".format(not_updated=not_updated))"
   ]
  },
  {
   "cell_type": "code",
   "execution_count": 9,
   "metadata": {},
   "outputs": [],
   "source": [
    "# Maps csv (future data objects) to period granularity\n",
    "# If we store all data together in a single data source, we'll change this to a function which returns corresponding rows\n",
    "data_csv_period_mapping = {\n",
    "    \"day\": 'all_coins_day_full.csv',\n",
    "    \"hour\": 'all_coins_hour_full.csv',\n",
    "    \"min\": 'all_coins_min_full.csv'\n",
    "}"
   ]
  },
  {
   "cell_type": "code",
   "execution_count": 10,
   "metadata": {},
   "outputs": [],
   "source": [
    "def fetch_data(coin_symbol=['BTC'], nrows=1, period='day'):\n",
    "    \"\"\" Fetch data from csv for mentioned coins \n",
    "        This function fetches last nrows from csv corr to given period\n",
    "    \"\"\"\n",
    "    period = period.lower()\n",
    "    csv_filename = data_csv_period_mapping[period]\n",
    "    df_csv = pd.read_csv(csv_filename, index_col=None)\n",
    "    # print(coin_symbol)\n",
    "    return_df = []\n",
    "    for coin in coin_symbol:\n",
    "        # Get rows where 'coin' is one of the coin_symbols; then extract last nrows\n",
    "        req_data = df_csv[df_csv['coin'] == coin].iloc[-nrows:]\n",
    "        if req_data.empty:\n",
    "            continue\n",
    "        req_columns = ['coin', 'time', 'open', 'high', 'low', 'close', 'volumeto']\n",
    "        req_data = req_data[req_columns]\n",
    "        return_df.append(req_data)\n",
    "    return return_df\n",
    "    # return pd.concat(return_df)"
   ]
  },
  {
   "cell_type": "code",
   "execution_count": 11,
   "metadata": {},
   "outputs": [],
   "source": [
    "df_day_10 = fetch_data(list(COIN_DB.Symbol), nrows=10, period=TIMEFRAME)"
   ]
  },
  {
   "cell_type": "code",
   "execution_count": 12,
   "metadata": {},
   "outputs": [],
   "source": [
    "import talib.abstract as taa\n",
    "inp_data_coin1 = df_day_10[0]\n",
    "inp_data_coin2 = df_day_10[1]\n",
    "inp_sma = taa.SMA(inp_data_coin1, timeperiod=3)\n",
    "inp_sma_two = taa.SMA(inp_data_coin2, timeperiod=5)\n",
    "inp_rsi = talib.RSI(inp_data_coin1.close.values, timeperiod=14)\n",
    "inp_mfi = talib.MFI(inp_data_coin1.high.values, inp_data_coin1.low.values, inp_data_coin1.close.values, inp_data_coin1.volumeto.values, timeperiod=14)\n",
    "inp_bbands = talib.BBANDS(inp_data_coin1.close.values, timeperiod=20, nbdevup=2, nbdevdn=2, matype=0)"
   ]
  },
  {
   "cell_type": "code",
   "execution_count": 13,
   "metadata": {},
   "outputs": [],
   "source": [
    "def update_indicator(csv_filename, indicator_data, indicator):\n",
    "    \"\"\" Update the given csv_file with new column values for corr rows \"\"\"\n",
    "    df_csv = pd.read_csv(csv_filename, index_col=None)\n",
    "    if indicator not in df_csv.columns:\n",
    "        df_csv[indicator] = np.nan\n",
    "    df_csv = df_csv.set_index(['coin', 'time'])\n",
    "    indicator_data = indicator_data.set_index(['coin', 'time'])\n",
    "    df_csv.update(indicator_data)\n",
    "    df_csv.to_csv(csv_filename)"
   ]
  },
  {
   "cell_type": "code",
   "execution_count": 16,
   "metadata": {},
   "outputs": [],
   "source": [
    "def fetch_last_day(coin):\n",
    "    \"\"\" Get data for last day \"\"\"\n",
    "    df_coin_last_day = ccw.get_historical_price_last_day(COIN)\n",
    "    df_coin_last_day['coin'] = coin\n",
    "    last_entry = df_coin_last_day.iloc[-1:]\n",
    "    return last_entry"
   ]
  },
  {
   "cell_type": "code",
   "execution_count": 15,
   "metadata": {},
   "outputs": [],
   "source": [
    "def update_last_day(coin):\n",
    "    \"\"\" Update csv for last day \"\"\"\n",
    "    record_last_day = fetch_last_day(COIN)\n",
    "    csv_day = 'coin_day_full.csv'\n",
    "    df_day = pd.read_csv(csv_day)\n",
    "    record = df_day[df_day['timestamp'] == record_last_day.iloc[0]['timestamp']]\n",
    "    if record.empty:\n",
    "        record_last_day.to_csv(csv_day, mode='a', header=False)"
   ]
  },
  {
   "cell_type": "code",
   "execution_count": 33,
   "metadata": {},
   "outputs": [],
   "source": [
    "function_period_mapping = {\n",
    "    'day': ccw.get_historical_price_day,\n",
    "    'hour': ccw.get_historical_price_hour,\n",
    "    'minute': ccw.get_historical_price_minute\n",
    "}"
   ]
  },
  {
   "cell_type": "code",
   "execution_count": 205,
   "metadata": {},
   "outputs": [],
   "source": [
    "def fetch_data(coin=COIN, to_curr=CURR, nperiods=1, period='day'):\n",
    "    \"\"\" Fetch data for coin over nperiods\n",
    "        e.g. Get data for 'BTC' for past 12 hours in hours granularity\n",
    "    \"\"\"\n",
    "    period = period.lower()\n",
    "    func = function_period_mapping[period]\n",
    "    coin_last_nperiods = func(\n",
    "        coin=coin,\n",
    "        to_curr=to_curr,\n",
    "        limit=nperiods\n",
    "    )\n",
    "    return coin_last_nperiods.iloc[-int(nperiods):]"
   ]
  },
  {
   "cell_type": "code",
   "execution_count": 249,
   "metadata": {},
   "outputs": [],
   "source": [
    "def update_csv_to_latest(period='day'):\n",
    "    \"\"\" Update the csv for given period upto current time for coin \"\"\"\n",
    "    period = period.lower()\n",
    "    csv_filename = data_csv_period_mapping[period]  # Get corr csv\n",
    "    df_coin_period = pd.read_csv(csv_filename, index_col=['coin', 'exchange'])\n",
    "    \n",
    "    coins_in_csv = list(df_coin_period.index.get_level_values(0).unique())\n",
    "    for coin in coins_in_csv:\n",
    "        # Group by exchange, sort on timestamp, and get the \n",
    "        last_update = df_coin_period.groupby('exchange', group_keys=False).apply(lambda c: c.sort_values(by='time').tail(1))\n",
    "        for exchange in last_update.index.values:\n",
    "            last_updated_time = last_update.loc[exchange]['time']\n",
    "            elapsed_time = datetime.datetime.now() - datetime.datetime.strptime(last_updated_time, '%Y-%m-%d %H:%M:%S')\n",
    "            nperiods_ago = elapsed_time / datetime.timedelta(days=1 if period == 'day' else 0,\n",
    "                                                             hours=1 if period == 'hour' else 0,\n",
    "                                                             minutes=1 if period == 'minute' else 0,\n",
    "                                                             seconds=1)\n",
    "            nperiods_ago = np.floor(nperiods_ago)\n",
    "            if nperiods_ago > 0:\n",
    "                new_data_coin_period = fetch_data(\n",
    "                    coin=coin,\n",
    "                    nperiods=nperiods_ago,\n",
    "                    period=period\n",
    "                )\n",
    "                new_data_coin_period['exchange'] = exchange\n",
    "                new_data_coin_period['coin'] = coin\n",
    "                new_data_coin_period.to_csv(csv_filename, mode='a', header=False)"
   ]
  },
  {
   "cell_type": "code",
   "execution_count": 250,
   "metadata": {},
   "outputs": [],
   "source": [
    "update_csv_to_latest()"
   ]
  }
 ],
 "metadata": {
  "anaconda-cloud": {},
  "kernelspec": {
   "display_name": "Python [conda root]",
   "language": "python",
   "name": "conda-root-py"
  },
  "language_info": {
   "codemirror_mode": {
    "name": "ipython",
    "version": 3
   },
   "file_extension": ".py",
   "mimetype": "text/x-python",
   "name": "python",
   "nbconvert_exporter": "python",
   "pygments_lexer": "ipython3",
   "version": "3.5.5"
  }
 },
 "nbformat": 4,
 "nbformat_minor": 2
}
